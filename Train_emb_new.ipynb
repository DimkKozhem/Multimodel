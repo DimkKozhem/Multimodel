{
 "cells": [
  {
   "cell_type": "code",
   "execution_count": 1,
   "id": "6da21024-b7fc-49aa-9eb2-63e963bff4a5",
   "metadata": {},
   "outputs": [],
   "source": [
    "from ptls.data_load.datasets import ParquetDataset, ParquetFiles"
   ]
  },
  {
   "cell_type": "code",
   "execution_count": 2,
   "id": "a280c7b2-b3b7-457d-8bb8-ab62c0012aec",
   "metadata": {},
   "outputs": [],
   "source": [
    "import os\n",
    "\n",
    "\n",
    "import pandas as pd\n",
    "import numpy as np\n",
    "import torch\n",
    "from functools import partial\n",
    "import pytorch_lightning as pl\n",
    "import warnings\n",
    "warnings.filterwarnings(\"ignore\")\n",
    "\n",
    "from torch.utils.data import DataLoader\n",
    "\n",
    "from ptls.data_load.datasets import MemoryMapDataset\n",
    "from ptls.data_load.iterable_processing.iterable_seq_len_limit import ISeqLenLimit\n",
    "from ptls.data_load.iterable_processing.to_torch_tensor import ToTorch\n",
    "from ptls.data_load.iterable_processing.feature_filter import FeatureFilter\n",
    "from ptls.nn import TrxEncoder, RnnSeqEncoder\n",
    "from ptls.frames.coles import CoLESModule\n",
    "from ptls.data_load.iterable_processing import SeqLenFilter\n",
    "from ptls.frames.coles import ColesIterableDataset\n",
    "from ptls.frames.coles.split_strategy import SampleSlices\n",
    "from ptls.frames import PtlsDataModule\n",
    "from ptls.preprocessing import PandasDataPreprocessor\n",
    "from ptls.data_load.utils import collate_feature_dict\n",
    "from ptls.data_load.iterable_processing_dataset import IterableProcessingDataset\n",
    "\n",
    "from tqdm.auto import tqdm\n",
    "import lightgbm as ltb"
   ]
  },
  {
   "cell_type": "code",
   "execution_count": 3,
   "id": "30149cd3-94f1-4e6a-9455-31659cd1d6f1",
   "metadata": {},
   "outputs": [],
   "source": [
    "processed_train = pd.DataFrame(ParquetDataset(ParquetFiles('./Data/train_trx_preprocessor.parquet'))) \n",
    "processed_test = pd.DataFrame(ParquetDataset(ParquetFiles('./Data/test_trx_preprocessor.parquet')))"
   ]
  },
  {
   "cell_type": "code",
   "execution_count": 4,
   "id": "a7ca8d0e-4c9e-46d6-bde5-1056678bdd95",
   "metadata": {},
   "outputs": [],
   "source": [
    "# processed = pd.DataFrame(ParquetDataset(ParquetFiles('./Data/test_tpreprocessor.parquet'))) #загружаем препросцессинг данных train+test"
   ]
  },
  {
   "cell_type": "code",
   "execution_count": 5,
   "id": "4453750f-4b04-41fe-ad21-9ec26241f2a7",
   "metadata": {},
   "outputs": [],
   "source": [
    "train = MemoryMapDataset(\n",
    "    data=processed_train.to_dict(\"records\"),\n",
    "    i_filters=[\n",
    "        FeatureFilter(drop_feature_names=['client_id', 'target_1', 'target_2', 'target_3', 'target_4']),\n",
    "        SeqLenFilter(min_seq_len=22),\n",
    "        ISeqLenLimit(max_seq_len=2530),\n",
    "        ToTorch()\n",
    "    ]\n",
    ")\n",
    "\n",
    "test = MemoryMapDataset(\n",
    "    data=processed_test.to_dict(\"records\"),\n",
    "    i_filters=[\n",
    "        FeatureFilter(drop_feature_names=['client_id', 'target_1', 'target_2', 'target_3', 'target_4']),\n",
    "        SeqLenFilter(min_seq_len=22),\n",
    "        ISeqLenLimit(max_seq_len=2530),\n",
    "        ToTorch()\n",
    "    ]\n",
    ")"
   ]
  },
  {
   "cell_type": "code",
   "execution_count": 6,
   "id": "2f236ee4-3823-44f3-af7c-aaab1c22f232",
   "metadata": {},
   "outputs": [],
   "source": [
    "train_ds = ColesIterableDataset(\n",
    "    data=train,\n",
    "    splitter=SampleSlices(\n",
    "        split_count=5,\n",
    "        cnt_min=32,\n",
    "        cnt_max=180\n",
    "    )\n",
    ")\n",
    "\n",
    "valid_ds = ColesIterableDataset(\n",
    "    data=test,\n",
    "    splitter=SampleSlices(\n",
    "        split_count=5,\n",
    "        cnt_min=32,\n",
    "        cnt_max=180\n",
    "    )\n",
    ")"
   ]
  },
  {
   "cell_type": "code",
   "execution_count": 7,
   "id": "6d149998-7cb4-4b81-ba49-00ebad9e843c",
   "metadata": {},
   "outputs": [],
   "source": [
    "train_dl = PtlsDataModule(\n",
    "    train_data=train_ds,\n",
    "    train_num_workers=3,\n",
    "    train_batch_size=64,\n",
    "    valid_data=valid_ds,\n",
    "    valid_num_workers=3,\n",
    "    valid_batch_size=64\n",
    ")\n"
   ]
  },
  {
   "cell_type": "code",
   "execution_count": 8,
   "id": "a58519b1-71cd-439a-a796-c4318a99beb9",
   "metadata": {},
   "outputs": [],
   "source": [
    "trx_encoder_params = dict(\n",
    "    embeddings_noise=0.003,\n",
    "    numeric_values={'amount': 'log'},\n",
    "    embeddings={\n",
    "        \"event_type\": {'in': 55, \"out\": 10},\n",
    "        \"event_subtype\": {'in': 57, \"out\": 10},\n",
    "        'src_type11': {'in': 15, 'out': 1},\n",
    "        'src_type12': {'in': 78, 'out': 10},\n",
    "        'dst_type11': {'in': 344, 'out': 30},\n",
    "        'dst_type12': {'in': 80, 'out': 10},\n",
    "        'src_type22': {'in': 32845, 'out': 3000},\n",
    "        'src_type31': {'in': 87, 'out': 10},\n",
    "        'src_type32': {'in': 2275, 'out': 200},\n",
    "      }\n",
    ")"
   ]
  },
  {
   "cell_type": "code",
   "execution_count": 9,
   "id": "bb3d6a6d-a723-4d54-b3e8-83cedd0f2eef",
   "metadata": {},
   "outputs": [],
   "source": [
    "seq_encoder = RnnSeqEncoder(\n",
    "    trx_encoder=TrxEncoder(**trx_encoder_params),\n",
    "    hidden_size=32,\n",
    "    type='gru',\n",
    ")"
   ]
  },
  {
   "cell_type": "code",
   "execution_count": 10,
   "id": "deb721ab-7805-4467-9d41-1a6f7b2077e5",
   "metadata": {},
   "outputs": [],
   "source": [
    "model = CoLESModule(\n",
    "    seq_encoder=seq_encoder,\n",
    "    optimizer_partial=partial(torch.optim.Adam, lr=0.001),\n",
    "    lr_scheduler_partial=partial(torch.optim.lr_scheduler.StepLR, step_size=3, gamma=0.9)\n",
    ")"
   ]
  },
  {
   "cell_type": "code",
   "execution_count": 11,
   "id": "4a3d8267-b7fa-481f-aa68-9375d3d58708",
   "metadata": {},
   "outputs": [],
   "source": [
    "# # Укажите путь к файлу с весами модели\n",
    "# model_weights_path = 'mlm-emb_trx_v55.pt'\n",
    "\n",
    "# # Загрузите веса модели\n",
    "# model.load_state_dict(torch.load(model_weights_path))\n",
    "\n",
    "# # # Загрузите сохраненное состояние параметров модели\n",
    "\n",
    "# # model_state_dict = torch.load(\"model_new1.pt\")\n",
    "\n",
    "# # # Загрузите параметры в модель\n",
    "# # model.load_state_dict(model_state_dict)\n"
   ]
  },
  {
   "cell_type": "code",
   "execution_count": 12,
   "id": "9dbc4219-b468-42a0-8cb8-aca67f78426a",
   "metadata": {},
   "outputs": [
    {
     "name": "stderr",
     "output_type": "stream",
     "text": [
      "GPU available: True (cuda), used: True\n",
      "TPU available: False, using: 0 TPU cores\n",
      "IPU available: False, using: 0 IPUs\n",
      "HPU available: False, using: 0 HPUs\n"
     ]
    }
   ],
   "source": [
    "trainer = pl.Trainer(\n",
    "    max_epochs=10,\n",
    "    limit_val_batches=5000,\n",
    "  \n",
    "    enable_progress_bar=True,\n",
    "    gradient_clip_val=0.5,\n",
    "    logger=pl.loggers.TensorBoardLogger(\n",
    "        save_dir='./logdir',\n",
    "        name='baseline_result'\n",
    "    ),\n",
    "    callbacks=[\n",
    "        pl.callbacks.LearningRateMonitor(logging_interval='step'),\n",
    "        pl.callbacks.ModelCheckpoint(every_n_train_steps=5000, save_top_k=-1),\n",
    "    ]\n",
    ")"
   ]
  },
  {
   "cell_type": "code",
   "execution_count": 13,
   "id": "2250cac9-0690-4553-b7e4-0fb1d8737052",
   "metadata": {
    "scrolled": true
   },
   "outputs": [
    {
     "name": "stderr",
     "output_type": "stream",
     "text": [
      "You are using a CUDA device ('NVIDIA GeForce RTX 3060 Ti') that has Tensor Cores. To properly utilize them, you should set `torch.set_float32_matmul_precision('medium' | 'high')` which will trade-off precision for performance. For more details, read https://pytorch.org/docs/stable/generated/torch.set_float32_matmul_precision.html#torch.set_float32_matmul_precision\n",
      "LOCAL_RANK: 0 - CUDA_VISIBLE_DEVICES: [0]\n",
      "\n",
      "  | Name               | Type            | Params\n",
      "-------------------------------------------------------\n",
      "0 | _loss              | ContrastiveLoss | 0     \n",
      "1 | _seq_encoder       | RnnSeqEncoder   | 99.3 M\n",
      "2 | _validation_metric | BatchRecallTopK | 0     \n",
      "3 | _head              | Head            | 0     \n",
      "-------------------------------------------------------\n",
      "99.3 M    Trainable params\n",
      "0         Non-trainable params\n",
      "99.3 M    Total params\n",
      "397.289   Total estimated model params size (MB)\n"
     ]
    },
    {
     "data": {
      "application/vnd.jupyter.widget-view+json": {
       "model_id": "",
       "version_major": 2,
       "version_minor": 0
      },
      "text/plain": [
       "Sanity Checking: |                                        | 0/? [00:00<?, ?it/s]"
      ]
     },
     "metadata": {},
     "output_type": "display_data"
    },
    {
     "data": {
      "application/vnd.jupyter.widget-view+json": {
       "model_id": "c32f6a0625d94c2a82060c319e231040",
       "version_major": 2,
       "version_minor": 0
      },
      "text/plain": [
       "Training: |                                               | 0/? [00:00<?, ?it/s]"
      ]
     },
     "metadata": {},
     "output_type": "display_data"
    },
    {
     "data": {
      "application/vnd.jupyter.widget-view+json": {
       "model_id": "",
       "version_major": 2,
       "version_minor": 0
      },
      "text/plain": [
       "Validation: |                                             | 0/? [00:00<?, ?it/s]"
      ]
     },
     "metadata": {},
     "output_type": "display_data"
    },
    {
     "data": {
      "application/vnd.jupyter.widget-view+json": {
       "model_id": "",
       "version_major": 2,
       "version_minor": 0
      },
      "text/plain": [
       "Validation: |                                             | 0/? [00:00<?, ?it/s]"
      ]
     },
     "metadata": {},
     "output_type": "display_data"
    },
    {
     "data": {
      "application/vnd.jupyter.widget-view+json": {
       "model_id": "",
       "version_major": 2,
       "version_minor": 0
      },
      "text/plain": [
       "Validation: |                                             | 0/? [00:00<?, ?it/s]"
      ]
     },
     "metadata": {},
     "output_type": "display_data"
    },
    {
     "data": {
      "application/vnd.jupyter.widget-view+json": {
       "model_id": "",
       "version_major": 2,
       "version_minor": 0
      },
      "text/plain": [
       "Validation: |                                             | 0/? [00:00<?, ?it/s]"
      ]
     },
     "metadata": {},
     "output_type": "display_data"
    },
    {
     "data": {
      "application/vnd.jupyter.widget-view+json": {
       "model_id": "",
       "version_major": 2,
       "version_minor": 0
      },
      "text/plain": [
       "Validation: |                                             | 0/? [00:00<?, ?it/s]"
      ]
     },
     "metadata": {},
     "output_type": "display_data"
    },
    {
     "data": {
      "application/vnd.jupyter.widget-view+json": {
       "model_id": "",
       "version_major": 2,
       "version_minor": 0
      },
      "text/plain": [
       "Validation: |                                             | 0/? [00:00<?, ?it/s]"
      ]
     },
     "metadata": {},
     "output_type": "display_data"
    },
    {
     "data": {
      "application/vnd.jupyter.widget-view+json": {
       "model_id": "",
       "version_major": 2,
       "version_minor": 0
      },
      "text/plain": [
       "Validation: |                                             | 0/? [00:00<?, ?it/s]"
      ]
     },
     "metadata": {},
     "output_type": "display_data"
    },
    {
     "data": {
      "application/vnd.jupyter.widget-view+json": {
       "model_id": "",
       "version_major": 2,
       "version_minor": 0
      },
      "text/plain": [
       "Validation: |                                             | 0/? [00:00<?, ?it/s]"
      ]
     },
     "metadata": {},
     "output_type": "display_data"
    },
    {
     "data": {
      "application/vnd.jupyter.widget-view+json": {
       "model_id": "",
       "version_major": 2,
       "version_minor": 0
      },
      "text/plain": [
       "Validation: |                                             | 0/? [00:00<?, ?it/s]"
      ]
     },
     "metadata": {},
     "output_type": "display_data"
    },
    {
     "data": {
      "application/vnd.jupyter.widget-view+json": {
       "model_id": "",
       "version_major": 2,
       "version_minor": 0
      },
      "text/plain": [
       "Validation: |                                             | 0/? [00:00<?, ?it/s]"
      ]
     },
     "metadata": {},
     "output_type": "display_data"
    },
    {
     "name": "stderr",
     "output_type": "stream",
     "text": [
      "`Trainer.fit` stopped: `max_epochs=10` reached.\n"
     ]
    }
   ],
   "source": [
    "trainer.fit(model, train_dl)"
   ]
  },
  {
   "cell_type": "code",
   "execution_count": 14,
   "id": "be97f698-e748-4a35-87fb-3fd8db3bd0e7",
   "metadata": {},
   "outputs": [],
   "source": [
    "torch.save(model.state_dict(), './mlm-emb_trx_vX1.pt')"
   ]
  },
  {
   "cell_type": "code",
   "execution_count": 16,
   "id": "36dda3d5-3bd2-4877-9e6c-74405a70517a",
   "metadata": {},
   "outputs": [],
   "source": [
    "import torch\n",
    "import pandas as pd\n",
    "from datetime import datetime\n",
    "from dateutil.relativedelta import relativedelta\n",
    "import numpy as np\n",
    "from ptls.data_load.datasets import inference_data_loader"
   ]
  },
  {
   "cell_type": "code",
   "execution_count": 17,
   "id": "47d846ad-b162-4552-8edb-be0121458520",
   "metadata": {},
   "outputs": [],
   "source": [
    "processed_train = pd.DataFrame(ParquetDataset(ParquetFiles('./Data/trx_preprocessor.parquet'))) #загружаем препросцессинг данных train+test\n",
    "id_client = pd.DataFrame(ParquetDataset(ParquetFiles('./Data/result_sample_Client_Month_df_12_06_2024.parquet'))) #загружаем перечень id_client и даты отчётов на которые надо сделаит предсказание"
   ]
  },
  {
   "cell_type": "code",
   "execution_count": 18,
   "id": "66770854-676b-4dd8-a24c-4b71e5a9812e",
   "metadata": {},
   "outputs": [
    {
     "data": {
      "text/plain": [
       "((1081371, 15), (747847, 3))"
      ]
     },
     "execution_count": 18,
     "metadata": {},
     "output_type": "execute_result"
    }
   ],
   "source": [
    "processed_train.shape, id_client.shape"
   ]
  },
  {
   "cell_type": "code",
   "execution_count": 23,
   "id": "348bb881-fbb4-421d-a7f7-26ab2054f632",
   "metadata": {},
   "outputs": [],
   "source": [
    "# Функция для фильтemb_trxрации данных по месяцу\n",
    "def filter_by_month(timestamps, data_list, month):\n",
    "    target_date = month - relativedelta(months=1)\n",
    "    target_year = target_date.year\n",
    "    target_month = target_date.month\n",
    "    filtered_timestamps = []\n",
    "    filtered_data_list = [[] for _ in range(len(data_list))]\n",
    "\n",
    "    for i, ts in enumerate(timestamps):\n",
    "        dt = datetime.fromtimestamp(ts)\n",
    "        \n",
    "        if dt.year == target_year and dt.month == target_month:\n",
    "            filtered_timestamps.append(ts)\n",
    "            for j in range(len(data_list)):\n",
    "                filtered_data_list[j].append(data_list[j][i])\n",
    "\n",
    "    filtered_timestamps = torch.tensor(filtered_timestamps)\n",
    "    filtered_data_list = [torch.tensor(data) for data in filtered_data_list]\n",
    "\n",
    "    return filtered_timestamps, filtered_data_list\n",
    "\n",
    "# Основная функция для фильтрации DataFrame по месяцу\n",
    "def filter_dataframe_by_month(df, timestamp_column, data_columns, month):\n",
    "    for index, row in tqdm(df.iterrows()):\n",
    "        timestamps = row[timestamp_column]\n",
    "        data_list = [row[col] for col in data_columns]\n",
    "        filtered_timestamps, filtered_data_list = filter_by_month(timestamps, data_list, month)\n",
    "        \n",
    "        df.at[index, timestamp_column] = filtered_timestamps\n",
    "        for col, filtered_data in zip(data_columns, filtered_data_list):\n",
    "            df.at[index, col] = filtered_data\n",
    "\n",
    "    return df\n",
    "\n",
    "# Определяем столбцы с временными метками и данными\n",
    "timestamp_column = 'event_time'\n",
    "\n",
    "data_columns = [ 'amount',\n",
    " 'event_type',\n",
    " 'event_subtype',\n",
    " 'currency',\n",
    " 'src_type11',\n",
    " 'src_type12',\n",
    " 'dst_type11',\n",
    " 'dst_type12',\n",
    " 'src_type21',\n",
    " 'src_type22',\n",
    " 'src_type31',\n",
    " 'src_type32']\n",
    "\n"
   ]
  },
  {
   "cell_type": "code",
   "execution_count": 24,
   "id": "a2cdaa5c-577f-46b8-95eb-2e4fe37cf836",
   "metadata": {},
   "outputs": [
    {
     "data": {
      "text/plain": [
       "Timestamp('2022-11-30 00:00:00')"
      ]
     },
     "execution_count": 24,
     "metadata": {},
     "output_type": "execute_result"
    }
   ],
   "source": [
    "id_client.report_next_end.unique()[0]"
   ]
  },
  {
   "cell_type": "code",
   "execution_count": 26,
   "id": "10e7dc3a-c10c-4709-a6df-d4bdb02e58aa",
   "metadata": {},
   "outputs": [
    {
     "data": {
      "application/vnd.jupyter.widget-view+json": {
       "model_id": "73b289f3766945a39f3d4b5698f8a0ce",
       "version_major": 2,
       "version_minor": 0
      },
      "text/plain": [
       "  0%|          | 0/13 [00:00<?, ?it/s]"
      ]
     },
     "metadata": {},
     "output_type": "display_data"
    },
    {
     "data": {
      "application/vnd.jupyter.widget-view+json": {
       "model_id": "2b20a9faafd84defa6a7097e661503a0",
       "version_major": 2,
       "version_minor": 0
      },
      "text/plain": [
       "0it [00:00, ?it/s]"
      ]
     },
     "metadata": {},
     "output_type": "display_data"
    },
    {
     "data": {
      "application/vnd.jupyter.widget-view+json": {
       "model_id": "35bbbe613b0c40969306f9e4a8e8c8a3",
       "version_major": 2,
       "version_minor": 0
      },
      "text/plain": [
       "0it [00:00, ?it/s]"
      ]
     },
     "metadata": {},
     "output_type": "display_data"
    },
    {
     "data": {
      "application/vnd.jupyter.widget-view+json": {
       "model_id": "149326425cd84e418660809001c07501",
       "version_major": 2,
       "version_minor": 0
      },
      "text/plain": [
       "0it [00:00, ?it/s]"
      ]
     },
     "metadata": {},
     "output_type": "display_data"
    },
    {
     "data": {
      "application/vnd.jupyter.widget-view+json": {
       "model_id": "9af2c05efb734fa690b57a8ccf37ca1b",
       "version_major": 2,
       "version_minor": 0
      },
      "text/plain": [
       "0it [00:00, ?it/s]"
      ]
     },
     "metadata": {},
     "output_type": "display_data"
    },
    {
     "data": {
      "application/vnd.jupyter.widget-view+json": {
       "model_id": "0f28966f538146348f8a4cefabdeffb1",
       "version_major": 2,
       "version_minor": 0
      },
      "text/plain": [
       "0it [00:00, ?it/s]"
      ]
     },
     "metadata": {},
     "output_type": "display_data"
    },
    {
     "data": {
      "application/vnd.jupyter.widget-view+json": {
       "model_id": "2f23342ce23045faac96cffb83772a06",
       "version_major": 2,
       "version_minor": 0
      },
      "text/plain": [
       "0it [00:00, ?it/s]"
      ]
     },
     "metadata": {},
     "output_type": "display_data"
    },
    {
     "data": {
      "application/vnd.jupyter.widget-view+json": {
       "model_id": "a485561adf2e4eb8993f7151813cc894",
       "version_major": 2,
       "version_minor": 0
      },
      "text/plain": [
       "0it [00:00, ?it/s]"
      ]
     },
     "metadata": {},
     "output_type": "display_data"
    },
    {
     "data": {
      "application/vnd.jupyter.widget-view+json": {
       "model_id": "86ec231866ec42a5a3f09c8e447bf81a",
       "version_major": 2,
       "version_minor": 0
      },
      "text/plain": [
       "0it [00:00, ?it/s]"
      ]
     },
     "metadata": {},
     "output_type": "display_data"
    },
    {
     "data": {
      "application/vnd.jupyter.widget-view+json": {
       "model_id": "dbad988fcbb04943a84959e58600c48c",
       "version_major": 2,
       "version_minor": 0
      },
      "text/plain": [
       "0it [00:00, ?it/s]"
      ]
     },
     "metadata": {},
     "output_type": "display_data"
    },
    {
     "data": {
      "application/vnd.jupyter.widget-view+json": {
       "model_id": "ffcd150866564b0585f5ffc7aa4cc8b9",
       "version_major": 2,
       "version_minor": 0
      },
      "text/plain": [
       "0it [00:00, ?it/s]"
      ]
     },
     "metadata": {},
     "output_type": "display_data"
    },
    {
     "data": {
      "application/vnd.jupyter.widget-view+json": {
       "model_id": "616b8bb23f024adc901203dddbb24ac9",
       "version_major": 2,
       "version_minor": 0
      },
      "text/plain": [
       "0it [00:00, ?it/s]"
      ]
     },
     "metadata": {},
     "output_type": "display_data"
    },
    {
     "data": {
      "application/vnd.jupyter.widget-view+json": {
       "model_id": "1ed021d204414b8aa2d983088dd9da82",
       "version_major": 2,
       "version_minor": 0
      },
      "text/plain": [
       "0it [00:00, ?it/s]"
      ]
     },
     "metadata": {},
     "output_type": "display_data"
    },
    {
     "data": {
      "application/vnd.jupyter.widget-view+json": {
       "model_id": "e824745b45774985a3a58311a304b091",
       "version_major": 2,
       "version_minor": 0
      },
      "text/plain": [
       "0it [00:00, ?it/s]"
      ]
     },
     "metadata": {},
     "output_type": "display_data"
    }
   ],
   "source": [
    "#фильтруем данные по заданным id_client\n",
    "df = pd.DataFrame()\n",
    "for mon in tqdm(id_client.report_next_end.unique()):\n",
    "    month_to_filter = mon\n",
    "    date = processed_train[processed_train['client_id'].isin(id_client[id_client['report_next_end'] == mon].client_id)]\n",
    "    date['report_next_end'] = mon \n",
    "    date = filter_dataframe_by_month(date, timestamp_column, data_columns, month_to_filter)\n",
    "    date = date.applymap(lambda x: np.nan if isinstance(x, list) and len(x) == 0 else x)\n",
    "    date.dropna(inplace=True)\n",
    "    df = pd.concat([df,date])"
   ]
  },
  {
   "cell_type": "code",
   "execution_count": 27,
   "id": "787fb334-4609-4927-9987-08ec5403c576",
   "metadata": {},
   "outputs": [],
   "source": [
    "# import gc\n",
    "# del processed_train\n",
    "# del id_client\n",
    "# del date[i for i in train]\n",
    "# amount\n",
    "# gc.collect()"
   ]
  },
  {
   "cell_type": "code",
   "execution_count": 28,
   "id": "c71c51ce-49f4-41d8-9a78-3f72b51e43d3",
   "metadata": {},
   "outputs": [
    {
     "data": {
      "text/plain": [
       "(478077, 16)"
      ]
     },
     "execution_count": 28,
     "metadata": {},
     "output_type": "execute_result"
    }
   ],
   "source": [
    "# Функция для проверки наличия tensor([])\n",
    "def contains_empty_tensor(x):\n",
    "    return isinstance(x, torch.Tensor) and x.numel() == 0\n",
    "# Преобразуем tensor([]) в NaN\n",
    "df = df.applymap(lambda x: None if contains_empty_tensor(x) else x)\n",
    "\n",
    "# Удаляем строки, содержащие NaN\n",
    "df = df.dropna()\n",
    "df.shape    "
   ]
  },
  {
   "cell_type": "code",
   "execution_count": 29,
   "id": "6801219f-4e80-4fd6-ae85-19a43fb3d58b",
   "metadata": {},
   "outputs": [],
   "source": [
    "test = MemoryMapDataset(\n",
    "    data=df.to_dict(\"records\"),\n",
    "    i_filters=[\n",
    "        FeatureFilter(drop_feature_names=['client_id',]),\n",
    "        ISeqLenLimit(max_seq_len=2530),\n",
    "        ToTorch(),\n",
    "    ]\n",
    ")\n"
   ]
  },
  {
   "cell_type": "code",
   "execution_count": 30,
   "id": "09c5ed2e-9a0d-4f26-a8d4-de2ea4729f67",
   "metadata": {},
   "outputs": [
    {
     "name": "stderr",
     "output_type": "stream",
     "text": [
      "GPU available: True (cuda), used: True\n",
      "TPU available: False, using: 0 TPU cores\n",
      "IPU available: False, using: 0 IPUs\n",
      "HPU available: False, using: 0 HPUs\n"
     ]
    }
   ],
   "source": [
    "trainer = pl.Trainer( max_epochs=-1)"
   ]
  },
  {
   "cell_type": "code",
   "execution_count": 31,
   "id": "4164329f-829d-4595-8a65-072e742f7ec5",
   "metadata": {},
   "outputs": [
    {
     "name": "stderr",
     "output_type": "stream",
     "text": [
      "LOCAL_RANK: 0 - CUDA_VISIBLE_DEVICES: [0]\n"
     ]
    },
    {
     "data": {
      "application/vnd.jupyter.widget-view+json": {
       "model_id": "463ebb4528fa4fad8fcf6f0e5bdf798c",
       "version_major": 2,
       "version_minor": 0
      },
      "text/plain": [
       "Predicting: |                                             | 0/? [00:00<?, ?it/s]"
      ]
     },
     "metadata": {},
     "output_type": "display_data"
    },
    {
     "data": {
      "text/plain": [
       "torch.Size([478077, 32])"
      ]
     },
     "execution_count": 31,
     "metadata": {},
     "output_type": "execute_result"
    }
   ],
   "source": [
    "model.to('cpu')\n",
    "train_dl = inference_data_loader(test, num_workers=0, batch_size=64)\n",
    "train_embeds = torch.vstack(trainer.predict(model, train_dl))\n",
    "train_embeds.shape"
   ]
  },
  {
   "cell_type": "code",
   "execution_count": 32,
   "id": "2486631a-622a-417e-aef3-55cd04ab3c3a",
   "metadata": {},
   "outputs": [],
   "source": [
    "train_df = pd.DataFrame()\n",
    "train_df['client_id'] = df['client_id']\n",
    "train_df['report_next_end'] = df['report_next_end']"
   ]
  },
  {
   "cell_type": "code",
   "execution_count": 33,
   "id": "020037f7-022b-4d33-99a1-8a5ff24957e3",
   "metadata": {},
   "outputs": [
    {
     "data": {
      "text/html": [
       "<div>\n",
       "<style scoped>\n",
       "    .dataframe tbody tr th:only-of-type {\n",
       "        vertical-align: middle;\n",
       "    }\n",
       "\n",
       "    .dataframe tbody tr th {\n",
       "        vertical-align: top;\n",
       "    }\n",
       "\n",
       "    .dataframe thead th {\n",
       "        text-align: right;\n",
       "    }\n",
       "</style>\n",
       "<table border=\"1\" class=\"dataframe\">\n",
       "  <thead>\n",
       "    <tr style=\"text-align: right;\">\n",
       "      <th></th>\n",
       "      <th>client_id</th>\n",
       "      <th>report_next_end</th>\n",
       "      <th>emb_trx</th>\n",
       "    </tr>\n",
       "  </thead>\n",
       "  <tbody>\n",
       "    <tr>\n",
       "      <th>19</th>\n",
       "      <td>00fe1344ab467920aeae2008c2e351d6ecc6d09c0192ae...</td>\n",
       "      <td>2022-11-30</td>\n",
       "      <td>[1.0, -0.21202722, 0.31116307, 1.0, 1.0, 0.189...</td>\n",
       "    </tr>\n",
       "    <tr>\n",
       "      <th>30</th>\n",
       "      <td>0163fc28a8ec289d03340d56ea13e975b4cf4d0cea6141...</td>\n",
       "      <td>2022-11-30</td>\n",
       "      <td>[-1.0, -1.0, 1.0, -1.0, -1.0, 1.0, 1.0, -0.043...</td>\n",
       "    </tr>\n",
       "    <tr>\n",
       "      <th>47</th>\n",
       "      <td>0218864e5f62e44ae86c490de5c3c0822ec3a79ae11476...</td>\n",
       "      <td>2022-11-30</td>\n",
       "      <td>[-0.0026537764, -0.21202722, 0.31116307, 1.0, ...</td>\n",
       "    </tr>\n",
       "    <tr>\n",
       "      <th>54</th>\n",
       "      <td>02745013e5cf8b2e1896c4f77e89bc3ca952057dd46486...</td>\n",
       "      <td>2022-11-30</td>\n",
       "      <td>[1.0, -0.21202722, -1.0, -1.0, -0.03291097, 0....</td>\n",
       "    </tr>\n",
       "    <tr>\n",
       "      <th>77</th>\n",
       "      <td>03c4d714e95fcdbfa6b77acf234011d23f51b639a1b697...</td>\n",
       "      <td>2022-11-30</td>\n",
       "      <td>[-0.0026537764, -0.21202722, -1.0, 1.0, -0.032...</td>\n",
       "    </tr>\n",
       "    <tr>\n",
       "      <th>...</th>\n",
       "      <td>...</td>\n",
       "      <td>...</td>\n",
       "      <td>...</td>\n",
       "    </tr>\n",
       "    <tr>\n",
       "      <th>1080734</th>\n",
       "      <td>e26f303b215d861753db9598bdc31022122406469ac3bc...</td>\n",
       "      <td>2022-12-30</td>\n",
       "      <td>[1.0, -0.21202722, 1.0, 1.0, 0.9999963, -1.0, ...</td>\n",
       "    </tr>\n",
       "    <tr>\n",
       "      <th>1080916</th>\n",
       "      <td>eb7f7ce03df433da1ba312a359d9ec1e071eb966cc6aea...</td>\n",
       "      <td>2022-12-30</td>\n",
       "      <td>[1.0, 0.9999888, -1.0, 1.0, 1.0, 0.18988582, 1...</td>\n",
       "    </tr>\n",
       "    <tr>\n",
       "      <th>1080928</th>\n",
       "      <td>ebb38c0ca39d3a5aefe95e166704eff9c59f7dcb7c3f5c...</td>\n",
       "      <td>2022-12-30</td>\n",
       "      <td>[1.0, 1.0, -1.0, 0.9999967, -0.03291097, 0.998...</td>\n",
       "    </tr>\n",
       "    <tr>\n",
       "      <th>1081073</th>\n",
       "      <td>f29acdd92ea6054e8e2ea19eb761e30ff04135aff45203...</td>\n",
       "      <td>2022-12-30</td>\n",
       "      <td>[-0.0026537764, -0.21202722, -1.0, -0.1718208,...</td>\n",
       "    </tr>\n",
       "    <tr>\n",
       "      <th>1081257</th>\n",
       "      <td>fac83abafd53ebc2bd1baf2b59d0c7940ca9664b4e0b20...</td>\n",
       "      <td>2022-12-30</td>\n",
       "      <td>[-0.0026537764, -1.0, -1.0, -0.1718208, -0.032...</td>\n",
       "    </tr>\n",
       "  </tbody>\n",
       "</table>\n",
       "<p>478077 rows × 3 columns</p>\n",
       "</div>"
      ],
      "text/plain": [
       "                                                 client_id report_next_end  \\\n",
       "19       00fe1344ab467920aeae2008c2e351d6ecc6d09c0192ae...      2022-11-30   \n",
       "30       0163fc28a8ec289d03340d56ea13e975b4cf4d0cea6141...      2022-11-30   \n",
       "47       0218864e5f62e44ae86c490de5c3c0822ec3a79ae11476...      2022-11-30   \n",
       "54       02745013e5cf8b2e1896c4f77e89bc3ca952057dd46486...      2022-11-30   \n",
       "77       03c4d714e95fcdbfa6b77acf234011d23f51b639a1b697...      2022-11-30   \n",
       "...                                                    ...             ...   \n",
       "1080734  e26f303b215d861753db9598bdc31022122406469ac3bc...      2022-12-30   \n",
       "1080916  eb7f7ce03df433da1ba312a359d9ec1e071eb966cc6aea...      2022-12-30   \n",
       "1080928  ebb38c0ca39d3a5aefe95e166704eff9c59f7dcb7c3f5c...      2022-12-30   \n",
       "1081073  f29acdd92ea6054e8e2ea19eb761e30ff04135aff45203...      2022-12-30   \n",
       "1081257  fac83abafd53ebc2bd1baf2b59d0c7940ca9664b4e0b20...      2022-12-30   \n",
       "\n",
       "                                                   emb_trx  \n",
       "19       [1.0, -0.21202722, 0.31116307, 1.0, 1.0, 0.189...  \n",
       "30       [-1.0, -1.0, 1.0, -1.0, -1.0, 1.0, 1.0, -0.043...  \n",
       "47       [-0.0026537764, -0.21202722, 0.31116307, 1.0, ...  \n",
       "54       [1.0, -0.21202722, -1.0, -1.0, -0.03291097, 0....  \n",
       "77       [-0.0026537764, -0.21202722, -1.0, 1.0, -0.032...  \n",
       "...                                                    ...  \n",
       "1080734  [1.0, -0.21202722, 1.0, 1.0, 0.9999963, -1.0, ...  \n",
       "1080916  [1.0, 0.9999888, -1.0, 1.0, 1.0, 0.18988582, 1...  \n",
       "1080928  [1.0, 1.0, -1.0, 0.9999967, -0.03291097, 0.998...  \n",
       "1081073  [-0.0026537764, -0.21202722, -1.0, -0.1718208,...  \n",
       "1081257  [-0.0026537764, -1.0, -1.0, -0.1718208, -0.032...  \n",
       "\n",
       "[478077 rows x 3 columns]"
      ]
     },
     "execution_count": 33,
     "metadata": {},
     "output_type": "execute_result"
    }
   ],
   "source": [
    "train_df['emb_trx'] = [i for i in train_embeds.numpy()]\n",
    "train_df"
   ]
  },
  {
   "cell_type": "code",
   "execution_count": 35,
   "id": "8cdba1c0-9118-4329-a088-2202136eb055",
   "metadata": {},
   "outputs": [],
   "source": [
    "train_df.to_parquet(f'./Data/trx_emb_select_1_v2.parquet', engine='pyarrow')"
   ]
  },
  {
   "cell_type": "code",
   "execution_count": null,
   "id": "baa22cdd-6f94-4cec-93c4-744defaf8108",
   "metadata": {},
   "outputs": [],
   "source": []
  },
  {
   "cell_type": "code",
   "execution_count": null,
   "id": "db3c2457-a741-4b0c-b62e-5294e06eb55c",
   "metadata": {},
   "outputs": [],
   "source": []
  },
  {
   "cell_type": "code",
   "execution_count": null,
   "id": "9c86e568-c34f-4bf6-9363-579b3f460eb6",
   "metadata": {},
   "outputs": [],
   "source": []
  }
 ],
 "metadata": {
  "kernelspec": {
   "display_name": "Python 3 (ipykernel)",
   "language": "python",
   "name": "python3"
  },
  "language_info": {
   "codemirror_mode": {
    "name": "ipython",
    "version": 3
   },
   "file_extension": ".py",
   "mimetype": "text/x-python",
   "name": "python",
   "nbconvert_exporter": "python",
   "pygments_lexer": "ipython3",
   "version": "3.10.12"
  },
  "widgets": {
   "application/vnd.jupyter.widget-state+json": {
    "state": {},
    "version_major": 2,
    "version_minor": 0
   }
  }
 },
 "nbformat": 4,
 "nbformat_minor": 5
}
