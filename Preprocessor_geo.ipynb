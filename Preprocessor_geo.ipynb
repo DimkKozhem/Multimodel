{
 "cells": [
  {
   "cell_type": "code",
   "execution_count": 1,
   "id": "ebe87686-cb2b-4a6a-af6e-9ccf80c4cefd",
   "metadata": {},
   "outputs": [],
   "source": [
    "import warnings\n",
    "warnings.filterwarnings(\"ignore\")"
   ]
  },
  {
   "cell_type": "code",
   "execution_count": 2,
   "id": "2c3d247c-f939-42c9-a0ff-f4d47e911839",
   "metadata": {},
   "outputs": [],
   "source": [
    "# import pyarrow.parquet as pq\n",
    "# import pyarrow as pa\n",
    "\n",
    "# # Открытие первого файла Parquet\n",
    "# table1 = pq.read_table('./Data/geo_train.parquet')\n",
    "\n",
    "# # Открытие второго файла Parquet\n",
    "# table2 = pq.read_table('./Data/geo_test.parquet')\n",
    "\n",
    "# # Конкатенация таблиц\n",
    "# table_concatenated = pa.concat_tables([table1, table2])\n",
    "\n",
    "# # Сохранение результата в новый файл Parquet\n",
    "# pq.write_table(table_concatenated, './Data/geo.parquet')"
   ]
  },
  {
   "cell_type": "code",
   "execution_count": 3,
   "id": "907bf4c8-6df7-4073-b6a1-f9e18f45b462",
   "metadata": {},
   "outputs": [
    {
     "name": "stderr",
     "output_type": "stream",
     "text": [
      "24/06/15 13:55:32 WARN Utils: Your hostname, dimk-B450M-DS3H resolves to a loopback address: 127.0.1.1; using 192.168.0.102 instead (on interface eno1)\n",
      "24/06/15 13:55:32 WARN Utils: Set SPARK_LOCAL_IP if you need to bind to another address\n",
      "Setting default log level to \"WARN\".\n",
      "To adjust logging level use sc.setLogLevel(newLevel). For SparkR, use setLogLevel(newLevel).\n",
      "24/06/15 13:55:32 WARN NativeCodeLoader: Unable to load native-hadoop library for your platform... using builtin-java classes where applicable\n",
      "24/06/15 13:55:32 WARN SparkConf: Note that spark.local.dir will be overridden by the value set by the cluster manager (via SPARK_LOCAL_DIRS in mesos/standalone/kubernetes and LOCAL_DIRS in YARN).\n"
     ]
    },
    {
     "data": {
      "text/plain": [
       "[('spark.driver.memoryOverhead', '4g'),\n",
       " ('spark.app.id', 'local-1718448933090'),\n",
       " ('spark.app.startTime', '1718448932610'),\n",
       " ('spark.driver.extraJavaOptions',\n",
       "  '-Djava.net.preferIPv6Addresses=false -XX:+IgnoreUnrecognizedVMOptions --add-opens=java.base/java.lang=ALL-UNNAMED --add-opens=java.base/java.lang.invoke=ALL-UNNAMED --add-opens=java.base/java.lang.reflect=ALL-UNNAMED --add-opens=java.base/java.io=ALL-UNNAMED --add-opens=java.base/java.net=ALL-UNNAMED --add-opens=java.base/java.nio=ALL-UNNAMED --add-opens=java.base/java.util=ALL-UNNAMED --add-opens=java.base/java.util.concurrent=ALL-UNNAMED --add-opens=java.base/java.util.concurrent.atomic=ALL-UNNAMED --add-opens=java.base/jdk.internal.ref=ALL-UNNAMED --add-opens=java.base/sun.nio.ch=ALL-UNNAMED --add-opens=java.base/sun.nio.cs=ALL-UNNAMED --add-opens=java.base/sun.security.action=ALL-UNNAMED --add-opens=java.base/sun.util.calendar=ALL-UNNAMED --add-opens=java.security.jgss/sun.security.krb5=ALL-UNNAMED -Djdk.reflect.useDirectMethodHandle=false'),\n",
       " ('spark.driver.port', '42787'),\n",
       " ('spark.local.dir', '../../spark_local_dir'),\n",
       " ('spark.executor.id', 'driver'),\n",
       " ('spark.driver.memory', '16g'),\n",
       " ('spark.driver.host', '192.168.0.102'),\n",
       " ('spark.app.submitTime', '1718448932554'),\n",
       " ('spark.executor.memory', '16g'),\n",
       " ('spark.rdd.compress', 'True'),\n",
       " ('spark.executor.extraJavaOptions',\n",
       "  '-Djava.net.preferIPv6Addresses=false -XX:+IgnoreUnrecognizedVMOptions --add-opens=java.base/java.lang=ALL-UNNAMED --add-opens=java.base/java.lang.invoke=ALL-UNNAMED --add-opens=java.base/java.lang.reflect=ALL-UNNAMED --add-opens=java.base/java.io=ALL-UNNAMED --add-opens=java.base/java.net=ALL-UNNAMED --add-opens=java.base/java.nio=ALL-UNNAMED --add-opens=java.base/java.util=ALL-UNNAMED --add-opens=java.base/java.util.concurrent=ALL-UNNAMED --add-opens=java.base/java.util.concurrent.atomic=ALL-UNNAMED --add-opens=java.base/jdk.internal.ref=ALL-UNNAMED --add-opens=java.base/sun.nio.ch=ALL-UNNAMED --add-opens=java.base/sun.nio.cs=ALL-UNNAMED --add-opens=java.base/sun.security.action=ALL-UNNAMED --add-opens=java.base/sun.util.calendar=ALL-UNNAMED --add-opens=java.security.jgss/sun.security.krb5=ALL-UNNAMED -Djdk.reflect.useDirectMethodHandle=false'),\n",
       " ('spark.serializer.objectStreamReset', '100'),\n",
       " ('spark.sql.shuffle.partitions', '200'),\n",
       " ('spark.master', 'local[*]'),\n",
       " ('spark.submit.pyFiles', ''),\n",
       " ('spark.submit.deployMode', 'client'),\n",
       " ('spark.app.name', 'PysparkDataPreprocessor'),\n",
       " ('spark.cores.max', '24'),\n",
       " ('spark.ui.showConsoleProgress', 'true'),\n",
       " ('spark.driver.maxResultSize', '4g'),\n",
       " ('spark.executor.memoryOverhead', '4g')]"
      ]
     },
     "execution_count": 3,
     "metadata": {},
     "output_type": "execute_result"
    }
   ],
   "source": [
    "import os\n",
    "import pyspark\n",
    "from pyspark.sql import SparkSession\n",
    "import pyspark.sql.functions as F\n",
    "from pyspark.sql import types as T\n",
    "\n",
    "\n",
    "data_path = 'data/'\n",
    "\n",
    "spark_conf = pyspark.SparkConf()\n",
    "spark_conf.setMaster(\"local[*]\").setAppName(\"PysparkDataPreprocessor\")\n",
    "spark_conf.set(\"spark.driver.maxResultSize\", \"4g\")\n",
    "spark_conf.set(\"spark.executor.memory\", \"16g\")\n",
    "spark_conf.set(\"spark.executor.memoryOverhead\", \"4g\")\n",
    "spark_conf.set(\"spark.driver.memory\", \"16g\")\n",
    "spark_conf.set(\"spark.driver.memoryOverhead\", \"4g\")\n",
    "spark_conf.set(\"spark.cores.max\", \"24\")\n",
    "spark_conf.set(\"spark.sql.shuffle.partitions\", \"200\")\n",
    "spark_conf.set(\"spark.local.dir\", \"../../spark_local_dir\")\n",
    "\n",
    "\n",
    "spark = SparkSession.builder.config(conf=spark_conf).getOrCreate()\n",
    "spark.sparkContext.getConf().getAll()"
   ]
  },
  {
   "cell_type": "code",
   "execution_count": 4,
   "id": "c299b903-7d9f-47d5-9b93-eceec022df11",
   "metadata": {},
   "outputs": [
    {
     "name": "stdout",
     "output_type": "stream",
     "text": [
      "+--------------------+--------------------+---------+---------+---------+\n",
      "|           client_id|          event_time|geohash_4|geohash_5|geohash_6|\n",
      "+--------------------+--------------------+---------+---------+---------+\n",
      "|6590fef3f66b31fcf...|2022-11-04 13:03:...|    24259|    93918|   962803|\n",
      "|6590fef3f66b31fcf...|2022-11-09 12:52:...|    24259|    93918|   962803|\n",
      "+--------------------+--------------------+---------+---------+---------+\n",
      "only showing top 2 rows\n",
      "\n"
     ]
    }
   ],
   "source": [
    "geo_train = spark.read.options(header=True, inferSchema=True).parquet(\"./Data/geo_train.parquet\")\n",
    "geo_train.show(2)"
   ]
  },
  {
   "cell_type": "code",
   "execution_count": 5,
   "id": "ad475877-b92b-4132-9216-00b0151f3818",
   "metadata": {},
   "outputs": [
    {
     "name": "stdout",
     "output_type": "stream",
     "text": [
      "+--------------------+--------------------+---------+---------+---------+\n",
      "|           client_id|          event_time|geohash_4|geohash_5|geohash_6|\n",
      "+--------------------+--------------------+---------+---------+---------+\n",
      "|0d5c0c50cccc7e786...|2022-01-25 08:47:...|    41966|    54997|  1976570|\n",
      "|0d5c0c50cccc7e786...|2022-01-29 09:02:...|    41966|    54997|  1976570|\n",
      "+--------------------+--------------------+---------+---------+---------+\n",
      "only showing top 2 rows\n",
      "\n"
     ]
    }
   ],
   "source": [
    "geo_test = spark.read.options(header=True, inferSchema=True).parquet(\"./Data/geo_test.parquet\")\n",
    "geo_test.show(2)"
   ]
  },
  {
   "cell_type": "code",
   "execution_count": 6,
   "id": "b7931c63-efa8-45be-8f54-e5666294aa54",
   "metadata": {},
   "outputs": [
    {
     "name": "stdout",
     "output_type": "stream",
     "text": [
      "+--------------------+--------------------+---------+---------+---------+\n",
      "|           client_id|          event_time|geohash_4|geohash_5|geohash_6|\n",
      "+--------------------+--------------------+---------+---------+---------+\n",
      "|309c0e909835757db...|2022-08-27 09:56:...|    39879|   144891|  1959174|\n",
      "|309c0e909835757db...|2022-08-14 07:13:...|    39879|   144891|  1959174|\n",
      "+--------------------+--------------------+---------+---------+---------+\n",
      "only showing top 2 rows\n",
      "\n"
     ]
    }
   ],
   "source": [
    "geo_df = spark.read.options(header=True, inferSchema=True).parquet(\"./Data/geo.parquet\")\n",
    "geo_df.show(2)"
   ]
  },
  {
   "cell_type": "code",
   "execution_count": 7,
   "id": "3557bd9d-b8d3-43d6-b950-41ed939bfcc3",
   "metadata": {},
   "outputs": [],
   "source": [
    "from ptls.preprocessing import PysparkDataPreprocessor\n",
    "\n",
    "preprocessor = PysparkDataPreprocessor(\n",
    "    col_id=\"client_id\",\n",
    "    col_event_time=\"event_time\",\n",
    "    event_time_transformation=\"dt_to_timestamp\",\n",
    "    cols_category=[\"geohash_4\",\n",
    "                   \"geohash_5\",\n",
    "                   \"geohash_6\",\n",
    "                   ],\n",
    ")\n"
   ]
  },
  {
   "cell_type": "code",
   "execution_count": 8,
   "id": "cd33dec8-45dc-467e-9c45-87397c179ee3",
   "metadata": {},
   "outputs": [
    {
     "name": "stderr",
     "output_type": "stream",
     "text": [
      "24/06/15 13:55:37 WARN WindowExec: No Partition Defined for Window operation! Moving all data to a single partition, this can cause serious performance degradation.\n",
      "24/06/15 13:55:37 WARN WindowExec: No Partition Defined for Window operation! Moving all data to a single partition, this can cause serious performance degradation.\n",
      "24/06/15 13:55:37 WARN WindowExec: No Partition Defined for Window operation! Moving all data to a single partition, this can cause serious performance degradation.\n",
      "24/06/15 13:55:43 WARN WindowExec: No Partition Defined for Window operation! Moving all data to a single partition, this can cause serious performance degradation.\n",
      "24/06/15 13:55:43 WARN WindowExec: No Partition Defined for Window operation! Moving all data to a single partition, this can cause serious performance degradation.\n",
      "24/06/15 13:55:43 WARN WindowExec: No Partition Defined for Window operation! Moving all data to a single partition, this can cause serious performance degradation.\n",
      "24/06/15 13:55:43 WARN WindowExec: No Partition Defined for Window operation! Moving all data to a single partition, this can cause serious performance degradation.\n",
      "24/06/15 13:55:48 WARN WindowExec: No Partition Defined for Window operation! Moving all data to a single partition, this can cause serious performance degradation.\n",
      "24/06/15 13:55:48 WARN WindowExec: No Partition Defined for Window operation! Moving all data to a single partition, this can cause serious performance degradation.\n",
      "24/06/15 13:55:48 WARN WindowExec: No Partition Defined for Window operation! Moving all data to a single partition, this can cause serious performance degradation.\n",
      "24/06/15 13:55:53 WARN WindowExec: No Partition Defined for Window operation! Moving all data to a single partition, this can cause serious performance degradation.\n",
      "24/06/15 13:55:53 WARN WindowExec: No Partition Defined for Window operation! Moving all data to a single partition, this can cause serious performance degradation.\n",
      "24/06/15 13:55:53 WARN WindowExec: No Partition Defined for Window operation! Moving all data to a single partition, this can cause serious performance degradation.\n",
      "24/06/15 13:55:53 WARN WindowExec: No Partition Defined for Window operation! Moving all data to a single partition, this can cause serious performance degradation.\n",
      "24/06/15 13:55:59 WARN WindowExec: No Partition Defined for Window operation! Moving all data to a single partition, this can cause serious performance degradation.\n",
      "24/06/15 13:55:59 WARN WindowExec: No Partition Defined for Window operation! Moving all data to a single partition, this can cause serious performance degradation.\n",
      "24/06/15 13:55:59 WARN WindowExec: No Partition Defined for Window operation! Moving all data to a single partition, this can cause serious performance degradation.\n",
      "24/06/15 13:56:04 WARN WindowExec: No Partition Defined for Window operation! Moving all data to a single partition, this can cause serious performance degradation.\n",
      "24/06/15 13:56:04 WARN WindowExec: No Partition Defined for Window operation! Moving all data to a single partition, this can cause serious performance degradation.\n",
      "24/06/15 13:56:04 WARN WindowExec: No Partition Defined for Window operation! Moving all data to a single partition, this can cause serious performance degradation.\n",
      "24/06/15 13:56:04 WARN WindowExec: No Partition Defined for Window operation! Moving all data to a single partition, this can cause serious performance degradation.\n",
      "24/06/15 14:23:38 WARN MemoryStore: Not enough space to cache rdd_63_161 in memory! (computed 50.7 MiB so far)\n",
      "24/06/15 14:23:38 WARN BlockManager: Persisting block rdd_63_161 to disk instead.\n",
      "24/06/15 14:23:41 WARN MemoryStore: Not enough space to cache rdd_63_177 in memory! (computed 52.7 MiB so far)\n",
      "24/06/15 14:23:41 WARN BlockManager: Persisting block rdd_63_177 to disk instead.\n",
      "24/06/15 14:23:41 WARN MemoryStore: Failed to reserve initial memory threshold of 1024.0 KiB for computing block rdd_63_177 in memory.\n",
      "24/06/15 14:23:41 WARN MemoryStore: Not enough space to cache rdd_63_177 in memory! (computed 384.0 B so far)\n",
      "24/06/15 14:23:44 WARN MemoryStore: Not enough space to cache rdd_63_33 in memory! (computed 52.5 MiB so far)\n",
      "24/06/15 14:23:44 WARN MemoryStore: Not enough space to cache rdd_63_38 in memory! (computed 51.8 MiB so far)\n",
      "24/06/15 14:23:44 WARN MemoryStore: Not enough space to cache rdd_63_30 in memory! (computed 52.1 MiB so far)\n",
      "24/06/15 14:23:44 WARN MemoryStore: Not enough space to cache rdd_63_24 in memory! (computed 52.1 MiB so far)\n",
      "24/06/15 14:23:44 WARN MemoryStore: Not enough space to cache rdd_63_22 in memory! (computed 51.0 MiB so far)\n",
      "24/06/15 14:23:44 WARN MemoryStore: Not enough space to cache rdd_63_32 in memory! (computed 51.3 MiB so far)\n",
      "24/06/15 14:23:44 WARN MemoryStore: Not enough space to cache rdd_63_35 in memory! (computed 51.5 MiB so far)\n",
      "24/06/15 14:23:44 WARN MemoryStore: Not enough space to cache rdd_63_21 in memory! (computed 49.7 MiB so far)\n",
      "24/06/15 14:23:44 WARN MemoryStore: Not enough space to cache rdd_63_23 in memory! (computed 53.1 MiB so far)\n",
      "24/06/15 14:23:44 WARN MemoryStore: Not enough space to cache rdd_63_26 in memory! (computed 52.1 MiB so far)\n",
      "24/06/15 14:23:44 WARN MemoryStore: Not enough space to cache rdd_63_31 in memory! (computed 54.7 MiB so far)\n",
      "24/06/15 14:23:44 WARN MemoryStore: Not enough space to cache rdd_63_28 in memory! (computed 52.5 MiB so far)\n",
      "24/06/15 14:23:44 WARN MemoryStore: Not enough space to cache rdd_63_34 in memory! (computed 49.8 MiB so far)\n",
      "24/06/15 14:23:44 WARN MemoryStore: Not enough space to cache rdd_63_20 in memory! (computed 52.4 MiB so far)\n",
      "24/06/15 14:23:44 WARN MemoryStore: Not enough space to cache rdd_63_177 in memory! (computed 52.7 MiB so far)\n",
      "                                                                                \r"
     ]
    },
    {
     "data": {
      "text/plain": [
       "622304"
      ]
     },
     "execution_count": 8,
     "metadata": {},
     "output_type": "execute_result"
    }
   ],
   "source": [
    "train_dataset = preprocessor.fit_transform(geo_train).persist()\n",
    "train_dataset.count()"
   ]
  },
  {
   "cell_type": "code",
   "execution_count": 9,
   "id": "b10daf0b-3be7-4b72-82c1-8f81f0429fd1",
   "metadata": {},
   "outputs": [
    {
     "name": "stdout",
     "output_type": "stream",
     "text": [
      "+--------------------+--------------------+--------------------+--------------------+--------------------+\n",
      "|           client_id|          event_time|           geohash_4|           geohash_5|           geohash_6|\n",
      "+--------------------+--------------------+--------------------+--------------------+--------------------+\n",
      "|0002f001b84dcf00b...|[1640980191, 1641...|[88, 88, 88, 88, ...|[1511, 1995, 351,...|[8893, 7753, 3760...|\n",
      "|0023bd56d71ad384d...|[1641184989, 1641...|[38, 38, 38, 38, ...|[907, 907, 907, 9...|[10001, 10001, 10...|\n",
      "+--------------------+--------------------+--------------------+--------------------+--------------------+\n",
      "only showing top 2 rows\n",
      "\n"
     ]
    }
   ],
   "source": [
    "train_dataset.show(2)"
   ]
  },
  {
   "cell_type": "code",
   "execution_count": 10,
   "id": "57a36595-4de8-43d8-a2f3-6391328f7904",
   "metadata": {},
   "outputs": [
    {
     "name": "stderr",
     "output_type": "stream",
     "text": [
      "24/06/15 14:23:44 WARN WindowExec: No Partition Defined for Window operation! Moving all data to a single partition, this can cause serious performance degradation.\n",
      "24/06/15 14:23:44 WARN WindowExec: No Partition Defined for Window operation! Moving all data to a single partition, this can cause serious performance degradation.\n",
      "24/06/15 14:23:44 WARN WindowExec: No Partition Defined for Window operation! Moving all data to a single partition, this can cause serious performance degradation.\n",
      "24/06/15 14:23:46 WARN WindowExec: No Partition Defined for Window operation! Moving all data to a single partition, this can cause serious performance degradation.\n",
      "24/06/15 14:23:46 WARN WindowExec: No Partition Defined for Window operation! Moving all data to a single partition, this can cause serious performance degradation.\n",
      "24/06/15 14:23:46 WARN WindowExec: No Partition Defined for Window operation! Moving all data to a single partition, this can cause serious performance degradation.\n",
      "24/06/15 14:23:46 WARN WindowExec: No Partition Defined for Window operation! Moving all data to a single partition, this can cause serious performance degradation.\n",
      "24/06/15 14:23:51 WARN WindowExec: No Partition Defined for Window operation! Moving all data to a single partition, this can cause serious performance degradation.\n",
      "24/06/15 14:23:51 WARN WindowExec: No Partition Defined for Window operation! Moving all data to a single partition, this can cause serious performance degradation.\n",
      "24/06/15 14:23:51 WARN WindowExec: No Partition Defined for Window operation! Moving all data to a single partition, this can cause serious performance degradation.\n",
      "24/06/15 14:23:52 WARN WindowExec: No Partition Defined for Window operation! Moving all data to a single partition, this can cause serious performance degradation.\n",
      "24/06/15 14:23:52 WARN WindowExec: No Partition Defined for Window operation! Moving all data to a single partition, this can cause serious performance degradation.\n",
      "24/06/15 14:23:52 WARN WindowExec: No Partition Defined for Window operation! Moving all data to a single partition, this can cause serious performance degradation.\n",
      "24/06/15 14:23:52 WARN WindowExec: No Partition Defined for Window operation! Moving all data to a single partition, this can cause serious performance degradation.\n",
      "24/06/15 14:23:58 WARN WindowExec: No Partition Defined for Window operation! Moving all data to a single partition, this can cause serious performance degradation.\n",
      "24/06/15 14:23:58 WARN WindowExec: No Partition Defined for Window operation! Moving all data to a single partition, this can cause serious performance degradation.\n",
      "24/06/15 14:23:58 WARN WindowExec: No Partition Defined for Window operation! Moving all data to a single partition, this can cause serious performance degradation.\n",
      "24/06/15 14:23:59 WARN WindowExec: No Partition Defined for Window operation! Moving all data to a single partition, this can cause serious performance degradation.\n",
      "24/06/15 14:23:59 WARN WindowExec: No Partition Defined for Window operation! Moving all data to a single partition, this can cause serious performance degradation.\n",
      "24/06/15 14:23:59 WARN WindowExec: No Partition Defined for Window operation! Moving all data to a single partition, this can cause serious performance degradation.\n",
      "24/06/15 14:23:59 WARN WindowExec: No Partition Defined for Window operation! Moving all data to a single partition, this can cause serious performance degradation.\n",
      "                                                                                \r"
     ]
    },
    {
     "data": {
      "text/plain": [
       "166747"
      ]
     },
     "execution_count": 10,
     "metadata": {},
     "output_type": "execute_result"
    }
   ],
   "source": [
    "test_dataset = preprocessor.fit_transform(geo_test).persist()\n",
    "test_dataset.count()"
   ]
  },
  {
   "cell_type": "code",
   "execution_count": 11,
   "id": "b4c183c2-d6f0-4174-9552-b98ecc97d267",
   "metadata": {},
   "outputs": [
    {
     "name": "stderr",
     "output_type": "stream",
     "text": [
      "24/06/15 14:31:06 WARN WindowExec: No Partition Defined for Window operation! Moving all data to a single partition, this can cause serious performance degradation.\n",
      "24/06/15 14:31:06 WARN WindowExec: No Partition Defined for Window operation! Moving all data to a single partition, this can cause serious performance degradation.\n",
      "24/06/15 14:31:06 WARN WindowExec: No Partition Defined for Window operation! Moving all data to a single partition, this can cause serious performance degradation.\n",
      "24/06/15 14:31:10 WARN WindowExec: No Partition Defined for Window operation! Moving all data to a single partition, this can cause serious performance degradation.\n",
      "24/06/15 14:31:10 WARN WindowExec: No Partition Defined for Window operation! Moving all data to a single partition, this can cause serious performance degradation.\n",
      "24/06/15 14:31:11 WARN WindowExec: No Partition Defined for Window operation! Moving all data to a single partition, this can cause serious performance degradation.\n",
      "24/06/15 14:31:11 WARN WindowExec: No Partition Defined for Window operation! Moving all data to a single partition, this can cause serious performance degradation.\n",
      "24/06/15 14:31:16 WARN WindowExec: No Partition Defined for Window operation! Moving all data to a single partition, this can cause serious performance degradation.\n",
      "24/06/15 14:31:16 WARN WindowExec: No Partition Defined for Window operation! Moving all data to a single partition, this can cause serious performance degradation.\n",
      "24/06/15 14:31:16 WARN WindowExec: No Partition Defined for Window operation! Moving all data to a single partition, this can cause serious performance degradation.\n",
      "24/06/15 14:31:20 WARN WindowExec: No Partition Defined for Window operation! Moving all data to a single partition, this can cause serious performance degradation.\n",
      "24/06/15 14:31:20 WARN WindowExec: No Partition Defined for Window operation! Moving all data to a single partition, this can cause serious performance degradation.\n",
      "24/06/15 14:31:20 WARN WindowExec: No Partition Defined for Window operation! Moving all data to a single partition, this can cause serious performance degradation.\n",
      "24/06/15 14:31:20 WARN WindowExec: No Partition Defined for Window operation! Moving all data to a single partition, this can cause serious performance degradation.\n",
      "24/06/15 14:31:26 WARN WindowExec: No Partition Defined for Window operation! Moving all data to a single partition, this can cause serious performance degradation.\n",
      "24/06/15 14:31:26 WARN WindowExec: No Partition Defined for Window operation! Moving all data to a single partition, this can cause serious performance degradation.\n",
      "24/06/15 14:31:26 WARN WindowExec: No Partition Defined for Window operation! Moving all data to a single partition, this can cause serious performance degradation.\n",
      "24/06/15 14:31:32 WARN WindowExec: No Partition Defined for Window operation! Moving all data to a single partition, this can cause serious performance degradation.\n",
      "24/06/15 14:31:32 WARN WindowExec: No Partition Defined for Window operation! Moving all data to a single partition, this can cause serious performance degradation.\n",
      "24/06/15 14:31:32 WARN WindowExec: No Partition Defined for Window operation! Moving all data to a single partition, this can cause serious performance degradation.\n",
      "24/06/15 14:31:32 WARN WindowExec: No Partition Defined for Window operation! Moving all data to a single partition, this can cause serious performance degradation.\n",
      "24/06/15 15:04:46 WARN MemoryStore: Not enough space to cache rdd_176_113 in memory! (computed 68.3 MiB so far)\n",
      "24/06/15 15:04:46 WARN BlockManager: Persisting block rdd_176_113 to disk instead.\n",
      "24/06/15 15:04:46 WARN MemoryStore: Not enough space to cache rdd_176_114 in memory! (computed 63.6 MiB so far)\n",
      "24/06/15 15:04:46 WARN BlockManager: Persisting block rdd_176_114 to disk instead.\n",
      "24/06/15 15:04:47 WARN MemoryStore: Not enough space to cache rdd_176_116 in memory! (computed 68.4 MiB so far)\n",
      "24/06/15 15:04:47 WARN BlockManager: Persisting block rdd_176_116 to disk instead.\n",
      "24/06/15 15:04:47 WARN MemoryStore: Not enough space to cache rdd_176_114 in memory! (computed 63.6 MiB so far)\n",
      "24/06/15 15:04:47 WARN MemoryStore: Not enough space to cache rdd_176_113 in memory! (computed 68.3 MiB so far)\n",
      "24/06/15 15:04:48 WARN MemoryStore: Not enough space to cache rdd_176_123 in memory! (computed 68.2 MiB so far)\n",
      "24/06/15 15:04:48 WARN BlockManager: Persisting block rdd_176_123 to disk instead.\n",
      "24/06/15 15:04:50 WARN MemoryStore: Not enough space to cache rdd_176_132 in memory! (computed 68.4 MiB so far)\n",
      "24/06/15 15:04:50 WARN BlockManager: Persisting block rdd_176_132 to disk instead.\n",
      "24/06/15 15:04:50 WARN MemoryStore: Not enough space to cache rdd_176_131 in memory! (computed 68.3 MiB so far)\n",
      "24/06/15 15:04:50 WARN BlockManager: Persisting block rdd_176_131 to disk instead.\n",
      "24/06/15 15:04:50 WARN MemoryStore: Not enough space to cache rdd_176_132 in memory! (computed 68.4 MiB so far)\n",
      "24/06/15 15:04:51 WARN MemoryStore: Not enough space to cache rdd_176_134 in memory! (computed 68.4 MiB so far)\n",
      "24/06/15 15:04:51 WARN BlockManager: Persisting block rdd_176_134 to disk instead.\n",
      "24/06/15 15:04:52 WARN MemoryStore: Not enough space to cache rdd_176_134 in memory! (computed 68.4 MiB so far)\n",
      "24/06/15 15:04:52 WARN MemoryStore: Not enough space to cache rdd_176_144 in memory! (computed 68.4 MiB so far)\n",
      "24/06/15 15:04:52 WARN BlockManager: Persisting block rdd_176_144 to disk instead.\n",
      "24/06/15 15:04:52 WARN MemoryStore: Not enough space to cache rdd_176_143 in memory! (computed 68.3 MiB so far)\n",
      "24/06/15 15:04:52 WARN MemoryStore: Not enough space to cache rdd_176_147 in memory! (computed 68.4 MiB so far)\n",
      "24/06/15 15:04:53 WARN BlockManager: Persisting block rdd_176_143 to disk instead.\n",
      "24/06/15 15:04:53 WARN BlockManager: Persisting block rdd_176_147 to disk instead.\n",
      "24/06/15 15:04:53 WARN MemoryStore: Not enough space to cache rdd_176_151 in memory! (computed 68.4 MiB so far)\n",
      "24/06/15 15:04:53 WARN BlockManager: Persisting block rdd_176_151 to disk instead.\n",
      "24/06/15 15:04:54 WARN MemoryStore: Not enough space to cache rdd_176_149 in memory! (computed 68.3 MiB so far)\n",
      "24/06/15 15:04:54 WARN MemoryStore: Not enough space to cache rdd_176_147 in memory! (computed 68.4 MiB so far)\n",
      "24/06/15 15:04:54 WARN BlockManager: Persisting block rdd_176_149 to disk instead.\n",
      "24/06/15 15:04:54 WARN MemoryStore: Not enough space to cache rdd_176_151 in memory! (computed 68.4 MiB so far)\n",
      "24/06/15 15:04:55 WARN MemoryStore: Not enough space to cache rdd_176_149 in memory! (computed 68.3 MiB so far)\n",
      "24/06/15 15:04:56 WARN MemoryStore: Not enough space to cache rdd_176_165 in memory! (computed 63.9 MiB so far)\n",
      "24/06/15 15:04:56 WARN BlockManager: Persisting block rdd_176_165 to disk instead.\n",
      "24/06/15 15:04:57 WARN MemoryStore: Not enough space to cache rdd_176_169 in memory! (computed 68.5 MiB so far)\n",
      "24/06/15 15:04:57 WARN BlockManager: Persisting block rdd_176_169 to disk instead.\n",
      "24/06/15 15:04:58 WARN MemoryStore: Not enough space to cache rdd_176_169 in memory! (computed 68.5 MiB so far)\n",
      "24/06/15 15:04:58 WARN MemoryStore: Not enough space to cache rdd_176_172 in memory! (computed 68.3 MiB so far)\n",
      "24/06/15 15:04:58 WARN BlockManager: Persisting block rdd_176_172 to disk instead.\n",
      "24/06/15 15:04:59 WARN MemoryStore: Not enough space to cache rdd_176_187 in memory! (computed 4.0 MiB so far)\n",
      "24/06/15 15:04:59 WARN MemoryStore: Not enough space to cache rdd_176_172 in memory! (computed 68.3 MiB so far)\n",
      "24/06/15 15:04:59 WARN BlockManager: Persisting block rdd_176_187 to disk instead.\n",
      "24/06/15 15:04:59 WARN MemoryStore: Not enough space to cache rdd_176_182 in memory! (computed 68.3 MiB so far)\n",
      "24/06/15 15:04:59 WARN BlockManager: Persisting block rdd_176_182 to disk instead.\n",
      "24/06/15 15:05:00 WARN MemoryStore: Not enough space to cache rdd_176_180 in memory! (computed 68.4 MiB so far)\n",
      "24/06/15 15:05:00 WARN MemoryStore: Not enough space to cache rdd_176_182 in memory! (computed 68.3 MiB so far)\n",
      "24/06/15 15:05:00 WARN BlockManager: Persisting block rdd_176_180 to disk instead.\n",
      "24/06/15 15:05:02 WARN MemoryStore: Not enough space to cache rdd_176_27 in memory! (computed 68.2 MiB so far)\n",
      "24/06/15 15:05:02 WARN MemoryStore: Not enough space to cache rdd_176_28 in memory! (computed 68.4 MiB so far)\n",
      "24/06/15 15:05:02 WARN MemoryStore: Not enough space to cache rdd_176_20 in memory! (computed 68.4 MiB so far)\n",
      "24/06/15 15:05:02 WARN MemoryStore: Not enough space to cache rdd_176_23 in memory! (computed 68.4 MiB so far)\n",
      "24/06/15 15:05:02 WARN MemoryStore: Not enough space to cache rdd_176_25 in memory! (computed 68.5 MiB so far)\n",
      "24/06/15 15:05:02 WARN MemoryStore: Not enough space to cache rdd_176_31 in memory! (computed 68.3 MiB so far)\n",
      "24/06/15 15:05:02 WARN MemoryStore: Not enough space to cache rdd_176_22 in memory! (computed 64.2 MiB so far)\n",
      "24/06/15 15:05:02 WARN MemoryStore: Not enough space to cache rdd_176_35 in memory! (computed 68.6 MiB so far)\n",
      "24/06/15 15:05:02 WARN MemoryStore: Not enough space to cache rdd_176_29 in memory! (computed 63.8 MiB so far)\n",
      "24/06/15 15:05:02 WARN MemoryStore: Not enough space to cache rdd_176_26 in memory! (computed 68.5 MiB so far)\n",
      "24/06/15 15:05:02 WARN MemoryStore: Not enough space to cache rdd_176_24 in memory! (computed 68.5 MiB so far)\n",
      "24/06/15 15:05:02 WARN MemoryStore: Not enough space to cache rdd_176_21 in memory! (computed 62.6 MiB so far)\n",
      "24/06/15 15:05:02 WARN MemoryStore: Not enough space to cache rdd_176_39 in memory! (computed 68.3 MiB so far)\n",
      "24/06/15 15:05:02 WARN MemoryStore: Not enough space to cache rdd_176_36 in memory! (computed 68.4 MiB so far)\n",
      "24/06/15 15:05:02 WARN MemoryStore: Not enough space to cache rdd_176_34 in memory! (computed 63.2 MiB so far)\n",
      "24/06/15 15:05:02 WARN MemoryStore: Not enough space to cache rdd_176_30 in memory! (computed 68.4 MiB so far)\n",
      "24/06/15 15:05:02 WARN MemoryStore: Not enough space to cache rdd_176_37 in memory! (computed 68.6 MiB so far)\n",
      "24/06/15 15:05:02 WARN MemoryStore: Not enough space to cache rdd_176_33 in memory! (computed 68.3 MiB so far)\n",
      "24/06/15 15:05:02 WARN MemoryStore: Not enough space to cache rdd_176_32 in memory! (computed 63.4 MiB so far)\n",
      "24/06/15 15:05:02 WARN MemoryStore: Not enough space to cache rdd_176_40 in memory! (computed 68.2 MiB so far)\n",
      "24/06/15 15:05:02 WARN MemoryStore: Not enough space to cache rdd_176_38 in memory! (computed 68.5 MiB so far)\n",
      "24/06/15 15:05:03 WARN MemoryStore: Not enough space to cache rdd_176_42 in memory! (computed 68.4 MiB so far)\n",
      "24/06/15 15:05:03 WARN MemoryStore: Not enough space to cache rdd_176_47 in memory! (computed 68.6 MiB so far)\n",
      "24/06/15 15:05:03 WARN MemoryStore: Not enough space to cache rdd_176_41 in memory! (computed 68.7 MiB so far)\n",
      "24/06/15 15:05:03 WARN MemoryStore: Not enough space to cache rdd_176_45 in memory! (computed 68.4 MiB so far)\n",
      "24/06/15 15:05:03 WARN MemoryStore: Not enough space to cache rdd_176_53 in memory! (computed 68.5 MiB so far)\n",
      "24/06/15 15:05:03 WARN MemoryStore: Not enough space to cache rdd_176_48 in memory! (computed 62.3 MiB so far)\n",
      "24/06/15 15:05:03 WARN MemoryStore: Not enough space to cache rdd_176_44 in memory! (computed 68.3 MiB so far)\n",
      "24/06/15 15:05:03 WARN MemoryStore: Not enough space to cache rdd_176_43 in memory! (computed 68.2 MiB so far)\n",
      "24/06/15 15:05:03 WARN MemoryStore: Not enough space to cache rdd_176_55 in memory! (computed 68.4 MiB so far)\n",
      "24/06/15 15:05:03 WARN MemoryStore: Not enough space to cache rdd_176_46 in memory! (computed 68.3 MiB so far)\n",
      "24/06/15 15:05:03 WARN MemoryStore: Not enough space to cache rdd_176_51 in memory! (computed 68.3 MiB so far)\n",
      "24/06/15 15:05:03 WARN MemoryStore: Not enough space to cache rdd_176_49 in memory! (computed 68.4 MiB so far)\n",
      "24/06/15 15:05:03 WARN MemoryStore: Not enough space to cache rdd_176_56 in memory! (computed 68.4 MiB so far)\n",
      "24/06/15 15:05:03 WARN MemoryStore: Not enough space to cache rdd_176_50 in memory! (computed 68.4 MiB so far)\n",
      "24/06/15 15:05:03 WARN MemoryStore: Not enough space to cache rdd_176_52 in memory! (computed 68.5 MiB so far)\n",
      "24/06/15 15:05:03 WARN MemoryStore: Not enough space to cache rdd_176_54 in memory! (computed 68.4 MiB so far)\n",
      "24/06/15 15:05:03 WARN MemoryStore: Not enough space to cache rdd_176_57 in memory! (computed 68.4 MiB so far)\n",
      "24/06/15 15:05:03 WARN MemoryStore: Not enough space to cache rdd_176_58 in memory! (computed 68.4 MiB so far)\n",
      "24/06/15 15:05:03 WARN MemoryStore: Not enough space to cache rdd_176_59 in memory! (computed 68.3 MiB so far)\n",
      "24/06/15 15:05:03 WARN MemoryStore: Not enough space to cache rdd_176_69 in memory! (computed 68.5 MiB so far)\n",
      "24/06/15 15:05:04 WARN MemoryStore: Not enough space to cache rdd_176_68 in memory! (computed 68.2 MiB so far)\n",
      "24/06/15 15:05:04 WARN MemoryStore: Not enough space to cache rdd_176_60 in memory! (computed 68.2 MiB so far)\n",
      "24/06/15 15:05:04 WARN MemoryStore: Not enough space to cache rdd_176_61 in memory! (computed 68.3 MiB so far)\n",
      "24/06/15 15:05:04 WARN MemoryStore: Not enough space to cache rdd_176_132 in memory! (computed 68.4 MiB so far)\n",
      "24/06/15 15:05:04 WARN MemoryStore: Not enough space to cache rdd_176_113 in memory! (computed 68.3 MiB so far)\n",
      "24/06/15 15:05:04 WARN MemoryStore: Not enough space to cache rdd_176_147 in memory! (computed 68.4 MiB so far)\n",
      "24/06/15 15:05:04 WARN MemoryStore: Not enough space to cache rdd_176_114 in memory! (computed 63.6 MiB so far)\n",
      "24/06/15 15:05:04 WARN MemoryStore: Not enough space to cache rdd_176_134 in memory! (computed 68.4 MiB so far)\n",
      "24/06/15 15:05:04 WARN MemoryStore: Not enough space to cache rdd_176_149 in memory! (computed 68.3 MiB so far)\n",
      "24/06/15 15:05:04 WARN MemoryStore: Not enough space to cache rdd_176_151 in memory! (computed 68.4 MiB so far)\n",
      "24/06/15 15:05:04 WARN MemoryStore: Not enough space to cache rdd_176_172 in memory! (computed 68.3 MiB so far)\n",
      "24/06/15 15:05:04 WARN MemoryStore: Not enough space to cache rdd_176_169 in memory! (computed 68.5 MiB so far)\n",
      "24/06/15 15:05:04 WARN MemoryStore: Not enough space to cache rdd_176_182 in memory! (computed 68.3 MiB so far)\n",
      "                                                                                \r"
     ]
    },
    {
     "data": {
      "text/plain": [
       "789051"
      ]
     },
     "execution_count": 11,
     "metadata": {},
     "output_type": "execute_result"
    }
   ],
   "source": [
    "df_dataset = preprocessor.fit_transform(geo_df).persist()\n",
    "df_dataset.count()"
   ]
  },
  {
   "cell_type": "code",
   "execution_count": null,
   "id": "f4daa9c2-b5f6-42d4-b531-6ef888f11f91",
   "metadata": {},
   "outputs": [],
   "source": []
  },
  {
   "cell_type": "code",
   "execution_count": 1,
   "id": "fc869e12-71ad-45af-9ebf-0d35121df4e2",
   "metadata": {},
   "outputs": [
    {
     "ename": "NameError",
     "evalue": "name 'train_dataset' is not defined",
     "output_type": "error",
     "traceback": [
      "\u001b[0;31m---------------------------------------------------------------------------\u001b[0m",
      "\u001b[0;31mNameError\u001b[0m                                 Traceback (most recent call last)",
      "Cell \u001b[0;32mIn[1], line 1\u001b[0m\n\u001b[0;32m----> 1\u001b[0m \u001b[43mtrain_dataset\u001b[49m\u001b[38;5;241m.\u001b[39mwrite\u001b[38;5;241m.\u001b[39mparquet(\u001b[38;5;124m'\u001b[39m\u001b[38;5;124m./Data/train_geo_preprocessor.parquet\u001b[39m\u001b[38;5;124m'\u001b[39m, mode\u001b[38;5;241m=\u001b[39m\u001b[38;5;124m'\u001b[39m\u001b[38;5;124moverwrite\u001b[39m\u001b[38;5;124m'\u001b[39m)\n\u001b[1;32m      2\u001b[0m test_dataset\u001b[38;5;241m.\u001b[39mwrite\u001b[38;5;241m.\u001b[39mparquet(\u001b[38;5;124m'\u001b[39m\u001b[38;5;124m./Data/test_geo_preprocessor.parquet\u001b[39m\u001b[38;5;124m'\u001b[39m, mode\u001b[38;5;241m=\u001b[39m\u001b[38;5;124m'\u001b[39m\u001b[38;5;124moverwrite\u001b[39m\u001b[38;5;124m'\u001b[39m)\n\u001b[1;32m      3\u001b[0m df_dataset\u001b[38;5;241m.\u001b[39mwrite\u001b[38;5;241m.\u001b[39mparquet(\u001b[38;5;124m'\u001b[39m\u001b[38;5;124m./Data/df_geo_preprocessor.parquet\u001b[39m\u001b[38;5;124m'\u001b[39m, mode\u001b[38;5;241m=\u001b[39m\u001b[38;5;124m'\u001b[39m\u001b[38;5;124moverwrite\u001b[39m\u001b[38;5;124m'\u001b[39m)\n",
      "\u001b[0;31mNameError\u001b[0m: name 'train_dataset' is not defined"
     ]
    }
   ],
   "source": [
    "train_dataset.write.parquet('./Data/train_geo_preprocessor.parquet', mode='overwrite')\n",
    "test_dataset.write.parquet('./Data/test_geo_preprocessor.parquet', mode='overwrite')\n",
    "df_dataset.write.parquet('./Data/df_geo_preprocessor.parquet', mode='overwrite')"
   ]
  },
  {
   "cell_type": "code",
   "execution_count": null,
   "id": "a1da5ce9-2f32-43b8-beb4-b073365084ca",
   "metadata": {},
   "outputs": [],
   "source": []
  }
 ],
 "metadata": {
  "kernelspec": {
   "display_name": "Python 3 (ipykernel)",
   "language": "python",
   "name": "python3"
  },
  "language_info": {
   "codemirror_mode": {
    "name": "ipython",
    "version": 3
   },
   "file_extension": ".py",
   "mimetype": "text/x-python",
   "name": "python",
   "nbconvert_exporter": "python",
   "pygments_lexer": "ipython3",
   "version": "3.10.12"
  },
  "widgets": {
   "application/vnd.jupyter.widget-state+json": {
    "state": {},
    "version_major": 2,
    "version_minor": 0
   }
  }
 },
 "nbformat": 4,
 "nbformat_minor": 5
}
