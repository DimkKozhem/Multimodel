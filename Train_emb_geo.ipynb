{
 "cells": [
  {
   "cell_type": "code",
   "execution_count": 1,
   "id": "6da21024-b7fc-49aa-9eb2-63e963bff4a5",
   "metadata": {},
   "outputs": [],
   "source": [
    "from ptls.data_load.datasets import ParquetDataset, ParquetFiles"
   ]
  },
  {
   "cell_type": "code",
   "execution_count": 2,
   "id": "e04b6d81-dcae-446b-8df1-b96cba1215a8",
   "metadata": {},
   "outputs": [],
   "source": [
    "import os\n",
    "import pandas as pd\n",
    "import numpy as np\n",
    "import torch\n",
    "from functools import partial\n",
    "import pytorch_lightning as pl\n",
    "import warnings\n",
    "warnings.filterwarnings(\"ignore\")\n",
    "\n",
    "from torch.utils.data import DataLoader\n",
    "\n",
    "from ptls.data_load.datasets import MemoryMapDataset\n",
    "from ptls.data_load.iterable_processing.iterable_seq_len_limit import ISeqLenLimit\n",
    "from ptls.data_load.iterable_processing.to_torch_tensor import ToTorch\n",
    "from ptls.data_load.iterable_processing.feature_filter import FeatureFilter\n",
    "from ptls.nn import TrxEncoder, RnnSeqEncoder\n",
    "from ptls.frames.coles import CoLESModule\n",
    "from ptls.data_load.iterable_processing import SeqLenFilter\n",
    "from ptls.frames.coles import ColesIterableDataset\n",
    "from ptls.frames.coles.split_strategy import SampleSlices\n",
    "from ptls.frames import PtlsDataModule\n",
    "from ptls.preprocessing import PandasDataPreprocessor\n",
    "from ptls.data_load.utils import collate_feature_dict\n",
    "from ptls.data_load.iterable_processing_dataset import IterableProcessingDataset\n",
    "\n",
    "from tqdm.auto import tqdm\n",
    "import lightgbm as ltb"
   ]
  },
  {
   "cell_type": "code",
   "execution_count": 3,
   "id": "30149cd3-94f1-4e6a-9455-31659cd1d6f1",
   "metadata": {},
   "outputs": [],
   "source": [
    "processed_train = pd.DataFrame(ParquetDataset(ParquetFiles('./Data/train_geo_preprocessor.parquet'))) #загружаем препросцессинг данных train+test\n",
    "processed_test = pd.DataFrame(ParquetDataset(ParquetFiles('./Data/test_geo_preprocessor.parquet')))"
   ]
  },
  {
   "cell_type": "code",
   "execution_count": 4,
   "id": "2f236ee4-3823-44f3-af7c-aaab1c22f232",
   "metadata": {},
   "outputs": [],
   "source": [
    "train = MemoryMapDataset(\n",
    "    data=processed_train.to_dict(\"records\"),\n",
    "    i_filters=[\n",
    "        FeatureFilter(drop_feature_names=['client_id', 'target_1', 'target_2', 'target_3', 'target_4']),\n",
    "        SeqLenFilter(min_seq_len=22),\n",
    "        ISeqLenLimit(max_seq_len=2530),\n",
    "        ToTorch()\n",
    "    ]\n",
    ")\n",
    "\n",
    "test = MemoryMapDataset(\n",
    "    data=processed_test.to_dict(\"records\"),\n",
    "    i_filters=[\n",
    "        FeatureFilter(drop_feature_names=['client_id', 'target_1', 'target_2', 'target_3', 'target_4']),\n",
    "        SeqLenFilter(min_seq_len=22),\n",
    "        ISeqLenLimit(max_seq_len=2530),\n",
    "        ToTorch()\n",
    "    ]\n",
    ")"
   ]
  },
  {
   "cell_type": "code",
   "execution_count": 5,
   "id": "be39cb9f-7531-4064-9ed7-ce3c158ee395",
   "metadata": {},
   "outputs": [],
   "source": [
    "train_ds = ColesIterableDataset(\n",
    "    data=train,\n",
    "    splitter=SampleSlices(\n",
    "        split_count=5,\n",
    "        cnt_min=32,\n",
    "        cnt_max=180\n",
    "    )\n",
    ")\n",
    "\n",
    "valid_ds = ColesIterableDataset(\n",
    "    data=test,\n",
    "    splitter=SampleSlices(\n",
    "        split_count=5,\n",
    "        cnt_min=32,\n",
    "        cnt_max=180\n",
    "    )\n",
    ")"
   ]
  },
  {
   "cell_type": "code",
   "execution_count": 6,
   "id": "42f7cc0c-9996-4197-b385-1ede587eee02",
   "metadata": {},
   "outputs": [],
   "source": [
    "train_dl = PtlsDataModule(\n",
    "    train_data=train_ds,\n",
    "    train_num_workers=3,\n",
    "    train_batch_size=64,\n",
    "    valid_data=valid_ds,\n",
    "    valid_num_workers=3,\n",
    "    valid_batch_size=64\n",
    ")\n"
   ]
  },
  {
   "cell_type": "code",
   "execution_count": 7,
   "id": "0dfa7d40-edb1-4740-b895-503b083411be",
   "metadata": {},
   "outputs": [],
   "source": [
    "trx_encoder_params = dict(\n",
    "    embeddings_noise=0.003,\n",
    "    embeddings={\n",
    "        \"geohash_4\": {'in': 32087037, \"out\": 5},\n",
    "        \"geohash_5\": {'in': 3820722, \"out\": 5},\n",
    "        'geohash_6': {'in': 421733, 'out': 5},\n",
    "      }\n",
    ")\n"
   ]
  },
  {
   "cell_type": "code",
   "execution_count": 8,
   "id": "2b1e1d28-6b33-4850-b526-ee67f2e83ef2",
   "metadata": {},
   "outputs": [],
   "source": [
    "seq_encoder = RnnSeqEncoder(\n",
    "    trx_encoder=TrxEncoder(**trx_encoder_params),\n",
    "    hidden_size=32,\n",
    "    type='gru')"
   ]
  },
  {
   "cell_type": "code",
   "execution_count": 9,
   "id": "4a9ca110-9907-409b-8bb8-b41ad2f63dc0",
   "metadata": {},
   "outputs": [],
   "source": [
    "model = CoLESModule(\n",
    "    seq_encoder=seq_encoder,\n",
    "    optimizer_partial=partial(torch.optim.Adam, lr=0.001),\n",
    "    lr_scheduler_partial=partial(torch.optim.lr_scheduler.StepLR, step_size=3, gamma=0.9)\n",
    ")"
   ]
  },
  {
   "cell_type": "code",
   "execution_count": 10,
   "id": "7b4f8a22-2250-45d3-8d85-40dfbbdbbb00",
   "metadata": {},
   "outputs": [],
   "source": [
    "# # Укажите путь к файлу с весами модели\n",
    "# model_weights_path = 'mlm-geo_trx_v55.pt'\n",
    "\n",
    "# # Загрузите веса модели\n",
    "# model.load_state_dict(torch.load(model_weights_path))\n",
    "\n",
    "# # # Загрузите сохраненное состояние параметров модели\n",
    "\n",
    "# # model_state_dict = torch.load(\"model_new1.pt\")\n",
    "\n",
    "# # # Загрузите параметры в модель\n",
    "# # model.load_state_dict(model_state_dict)\n"
   ]
  },
  {
   "cell_type": "code",
   "execution_count": 11,
   "id": "694ee685-d435-454d-875e-8a61eae036cf",
   "metadata": {},
   "outputs": [
    {
     "name": "stderr",
     "output_type": "stream",
     "text": [
      "GPU available: True (cuda), used: True\n",
      "TPU available: False, using: 0 TPU cores\n",
      "IPU available: False, using: 0 IPUs\n",
      "HPU available: False, using: 0 HPUs\n"
     ]
    }
   ],
   "source": [
    "trainer = pl.Trainer(\n",
    "    max_epochs=10,\n",
    "    limit_val_batches=5000,\n",
    "  \n",
    "    enable_progress_bar=True,\n",
    "    gradient_clip_val=0.5,\n",
    "    logger=pl.loggers.TensorBoardLogger(\n",
    "        save_dir='./logdir',\n",
    "        name='baseline_result'\n",
    "    ),\n",
    "    callbacks=[\n",
    "        pl.callbacks.LearningRateMonitor(logging_interval='step'),\n",
    "        pl.callbacks.ModelCheckpoint(every_n_train_steps=5000, save_top_k=-1),\n",
    "    ]\n",
    ")"
   ]
  },
  {
   "cell_type": "code",
   "execution_count": 12,
   "id": "54954bf7-4203-4944-825a-1347cdd4f8c8",
   "metadata": {},
   "outputs": [
    {
     "name": "stderr",
     "output_type": "stream",
     "text": [
      "You are using a CUDA device ('NVIDIA GeForce RTX 3060 Ti') that has Tensor Cores. To properly utilize them, you should set `torch.set_float32_matmul_precision('medium' | 'high')` which will trade-off precision for performance. For more details, read https://pytorch.org/docs/stable/generated/torch.set_float32_matmul_precision.html#torch.set_float32_matmul_precision\n",
      "LOCAL_RANK: 0 - CUDA_VISIBLE_DEVICES: [0]\n",
      "\n",
      "  | Name               | Type            | Params\n",
      "-------------------------------------------------------\n",
      "0 | _loss              | ContrastiveLoss | 0     \n",
      "1 | _seq_encoder       | RnnSeqEncoder   | 181 M \n",
      "2 | _validation_metric | BatchRecallTopK | 0     \n",
      "3 | _head              | Head            | 0     \n",
      "-------------------------------------------------------\n",
      "181 M     Trainable params\n",
      "0         Non-trainable params\n",
      "181 M     Total params\n",
      "726.609   Total estimated model params size (MB)\n"
     ]
    },
    {
     "data": {
      "application/vnd.jupyter.widget-view+json": {
       "model_id": "",
       "version_major": 2,
       "version_minor": 0
      },
      "text/plain": [
       "Sanity Checking: |                                        | 0/? [00:00<?, ?it/s]"
      ]
     },
     "metadata": {},
     "output_type": "display_data"
    },
    {
     "data": {
      "application/vnd.jupyter.widget-view+json": {
       "model_id": "3bec879812ed423eb1728739b0bc6473",
       "version_major": 2,
       "version_minor": 0
      },
      "text/plain": [
       "Training: |                                               | 0/? [00:00<?, ?it/s]"
      ]
     },
     "metadata": {},
     "output_type": "display_data"
    },
    {
     "data": {
      "application/vnd.jupyter.widget-view+json": {
       "model_id": "",
       "version_major": 2,
       "version_minor": 0
      },
      "text/plain": [
       "Validation: |                                             | 0/? [00:00<?, ?it/s]"
      ]
     },
     "metadata": {},
     "output_type": "display_data"
    },
    {
     "data": {
      "application/vnd.jupyter.widget-view+json": {
       "model_id": "",
       "version_major": 2,
       "version_minor": 0
      },
      "text/plain": [
       "Validation: |                                             | 0/? [00:00<?, ?it/s]"
      ]
     },
     "metadata": {},
     "output_type": "display_data"
    },
    {
     "data": {
      "application/vnd.jupyter.widget-view+json": {
       "model_id": "",
       "version_major": 2,
       "version_minor": 0
      },
      "text/plain": [
       "Validation: |                                             | 0/? [00:00<?, ?it/s]"
      ]
     },
     "metadata": {},
     "output_type": "display_data"
    },
    {
     "data": {
      "application/vnd.jupyter.widget-view+json": {
       "model_id": "",
       "version_major": 2,
       "version_minor": 0
      },
      "text/plain": [
       "Validation: |                                             | 0/? [00:00<?, ?it/s]"
      ]
     },
     "metadata": {},
     "output_type": "display_data"
    },
    {
     "data": {
      "application/vnd.jupyter.widget-view+json": {
       "model_id": "",
       "version_major": 2,
       "version_minor": 0
      },
      "text/plain": [
       "Validation: |                                             | 0/? [00:00<?, ?it/s]"
      ]
     },
     "metadata": {},
     "output_type": "display_data"
    },
    {
     "data": {
      "application/vnd.jupyter.widget-view+json": {
       "model_id": "",
       "version_major": 2,
       "version_minor": 0
      },
      "text/plain": [
       "Validation: |                                             | 0/? [00:00<?, ?it/s]"
      ]
     },
     "metadata": {},
     "output_type": "display_data"
    },
    {
     "data": {
      "application/vnd.jupyter.widget-view+json": {
       "model_id": "",
       "version_major": 2,
       "version_minor": 0
      },
      "text/plain": [
       "Validation: |                                             | 0/? [00:00<?, ?it/s]"
      ]
     },
     "metadata": {},
     "output_type": "display_data"
    },
    {
     "data": {
      "application/vnd.jupyter.widget-view+json": {
       "model_id": "",
       "version_major": 2,
       "version_minor": 0
      },
      "text/plain": [
       "Validation: |                                             | 0/? [00:00<?, ?it/s]"
      ]
     },
     "metadata": {},
     "output_type": "display_data"
    },
    {
     "data": {
      "application/vnd.jupyter.widget-view+json": {
       "model_id": "",
       "version_major": 2,
       "version_minor": 0
      },
      "text/plain": [
       "Validation: |                                             | 0/? [00:00<?, ?it/s]"
      ]
     },
     "metadata": {},
     "output_type": "display_data"
    },
    {
     "data": {
      "application/vnd.jupyter.widget-view+json": {
       "model_id": "",
       "version_major": 2,
       "version_minor": 0
      },
      "text/plain": [
       "Validation: |                                             | 0/? [00:00<?, ?it/s]"
      ]
     },
     "metadata": {},
     "output_type": "display_data"
    },
    {
     "name": "stderr",
     "output_type": "stream",
     "text": [
      "`Trainer.fit` stopped: `max_epochs=10` reached.\n"
     ]
    }
   ],
   "source": [
    "trainer.fit(model, train_dl)"
   ]
  },
  {
   "cell_type": "code",
   "execution_count": 13,
   "id": "204aa010-2428-408a-a5ef-5701dcf415c1",
   "metadata": {},
   "outputs": [],
   "source": [
    "torch.save(model.state_dict(), f\"mlm-emb_geo_vX1.pt\")"
   ]
  },
  {
   "cell_type": "markdown",
   "id": "f03ce67e-98c2-43b4-8c5c-8ba42920e7fe",
   "metadata": {},
   "source": [
    "# Inference"
   ]
  },
  {
   "cell_type": "code",
   "execution_count": 14,
   "id": "a5911627-79b5-415c-ae96-d70dc4f1db81",
   "metadata": {},
   "outputs": [],
   "source": [
    "import torch\n",
    "import pandas as pd\n",
    "from datetime import datetime\n",
    "from dateutil.relativedelta import relativedelta\n",
    "import numpy as np\n",
    "from ptls.data_load.datasets import inference_data_loader"
   ]
  },
  {
   "cell_type": "code",
   "execution_count": 15,
   "id": "f2e901e6-78d8-4e13-9efc-422d83eea757",
   "metadata": {},
   "outputs": [],
   "source": [
    "processed_train = pd.DataFrame(ParquetDataset(ParquetFiles('./Data/df_geo_preprocessor.parquet'))) #загружаем препросцессинг данных train+test\n",
    "id_client = pd.DataFrame(ParquetDataset(ParquetFiles('./Data/result_sample_Client_Month_df_12_06_2024.parquet'))) #загружаем перечень id_client и даты отчётов на которые надо сделаит предсказание"
   ]
  },
  {
   "cell_type": "code",
   "execution_count": 16,
   "id": "b57b54ce-f39d-4fd8-8cd6-9f21c2eb69ee",
   "metadata": {},
   "outputs": [
    {
     "data": {
      "text/plain": [
       "((789051, 5), (747847, 3))"
      ]
     },
     "execution_count": 16,
     "metadata": {},
     "output_type": "execute_result"
    }
   ],
   "source": [
    "processed_train.shape, id_client.shape"
   ]
  },
  {
   "cell_type": "code",
   "execution_count": 17,
   "id": "f0985d68-cb7d-45e5-b43d-4a9daa173ff3",
   "metadata": {},
   "outputs": [],
   "source": [
    "# Функция для фильтрации данных по месяцу\n",
    "def filter_by_month(timestamps, data_list, month):\n",
    "    target_date = month - relativedelta(months=1)\n",
    "    target_year = target_date.year\n",
    "    target_month = target_date.month\n",
    "    filtered_timestamps = []\n",
    "    filtered_data_list = [[] for _ in range(len(data_list))]\n",
    "\n",
    "    for i, ts in enumerate(timestamps):\n",
    "        dt = datetime.fromtimestamp(ts)\n",
    "        \n",
    "        if dt.year == target_year and dt.month == target_month:\n",
    "            filtered_timestamps.append(ts)\n",
    "            for j in range(len(data_list)):\n",
    "                filtered_data_list[j].append(data_list[j][i])\n",
    "\n",
    "    filtered_timestamps = torch.tensor(filtered_timestamps)\n",
    "    filtered_data_list = [torch.tensor(data) for data in filtered_data_list]\n",
    "\n",
    "    return filtered_timestamps, filtered_data_list\n",
    "\n",
    "# Основная функция для фильтрации DataFrame по месяцу\n",
    "def filter_dataframe_by_month(df, timestamp_column, data_columns, month):\n",
    "    for index, row in tqdm(df.iterrows()):\n",
    "        timestamps = row[timestamp_column]\n",
    "        data_list = [row[col] for col in data_columns]\n",
    "        filtered_timestamps, filtered_data_list = filter_by_month(timestamps, data_list, month)\n",
    "        \n",
    "        df.at[index, timestamp_column] = filtered_timestamps\n",
    "        for col, filtered_data in zip(data_columns, filtered_data_list):\n",
    "            df.at[index, col] = filtered_data\n",
    "\n",
    "    return df\n",
    "\n",
    "# Определяем столбцы с временными метками и данными\n",
    "timestamp_column = 'event_time'\n",
    "\n",
    "data_columns = [ \n",
    "        \"geohash_4\",\n",
    "        \"geohash_5\",\n",
    "        \"geohash_6\"]"
   ]
  },
  {
   "cell_type": "code",
   "execution_count": 18,
   "id": "4542ff04-79a6-45f0-b279-856501b615a0",
   "metadata": {},
   "outputs": [
    {
     "data": {
      "application/vnd.jupyter.widget-view+json": {
       "model_id": "9c6ad55ce2fe4bbc848b72bb1c4bba26",
       "version_major": 2,
       "version_minor": 0
      },
      "text/plain": [
       "  0%|          | 0/13 [00:00<?, ?it/s]"
      ]
     },
     "metadata": {},
     "output_type": "display_data"
    },
    {
     "data": {
      "application/vnd.jupyter.widget-view+json": {
       "model_id": "adf3fa34781e4d448282a3cf7aca3f9c",
       "version_major": 2,
       "version_minor": 0
      },
      "text/plain": [
       "0it [00:00, ?it/s]"
      ]
     },
     "metadata": {},
     "output_type": "display_data"
    },
    {
     "data": {
      "application/vnd.jupyter.widget-view+json": {
       "model_id": "3fead4b7af944a1d98ddab11a55acbd9",
       "version_major": 2,
       "version_minor": 0
      },
      "text/plain": [
       "0it [00:00, ?it/s]"
      ]
     },
     "metadata": {},
     "output_type": "display_data"
    },
    {
     "data": {
      "application/vnd.jupyter.widget-view+json": {
       "model_id": "84b3164ad797475886851c1f864f273a",
       "version_major": 2,
       "version_minor": 0
      },
      "text/plain": [
       "0it [00:00, ?it/s]"
      ]
     },
     "metadata": {},
     "output_type": "display_data"
    },
    {
     "data": {
      "application/vnd.jupyter.widget-view+json": {
       "model_id": "eaba43b5bd12427f95d131b57dce2d86",
       "version_major": 2,
       "version_minor": 0
      },
      "text/plain": [
       "0it [00:00, ?it/s]"
      ]
     },
     "metadata": {},
     "output_type": "display_data"
    },
    {
     "data": {
      "application/vnd.jupyter.widget-view+json": {
       "model_id": "9a99e96d58e84dd99de138f29bfbc08b",
       "version_major": 2,
       "version_minor": 0
      },
      "text/plain": [
       "0it [00:00, ?it/s]"
      ]
     },
     "metadata": {},
     "output_type": "display_data"
    },
    {
     "data": {
      "application/vnd.jupyter.widget-view+json": {
       "model_id": "998ff7423a5c4f869c915decf6882d62",
       "version_major": 2,
       "version_minor": 0
      },
      "text/plain": [
       "0it [00:00, ?it/s]"
      ]
     },
     "metadata": {},
     "output_type": "display_data"
    },
    {
     "data": {
      "application/vnd.jupyter.widget-view+json": {
       "model_id": "263eb2c0d747426aa04d07ce740d7ca9",
       "version_major": 2,
       "version_minor": 0
      },
      "text/plain": [
       "0it [00:00, ?it/s]"
      ]
     },
     "metadata": {},
     "output_type": "display_data"
    },
    {
     "data": {
      "application/vnd.jupyter.widget-view+json": {
       "model_id": "c0f6af4a3d3d4c9bba3f12d4e84ddaba",
       "version_major": 2,
       "version_minor": 0
      },
      "text/plain": [
       "0it [00:00, ?it/s]"
      ]
     },
     "metadata": {},
     "output_type": "display_data"
    },
    {
     "data": {
      "application/vnd.jupyter.widget-view+json": {
       "model_id": "028a6850995246c6b4d5f460207e24b6",
       "version_major": 2,
       "version_minor": 0
      },
      "text/plain": [
       "0it [00:00, ?it/s]"
      ]
     },
     "metadata": {},
     "output_type": "display_data"
    },
    {
     "data": {
      "application/vnd.jupyter.widget-view+json": {
       "model_id": "b5feba926fb6484fbd97c42733613d6b",
       "version_major": 2,
       "version_minor": 0
      },
      "text/plain": [
       "0it [00:00, ?it/s]"
      ]
     },
     "metadata": {},
     "output_type": "display_data"
    },
    {
     "data": {
      "application/vnd.jupyter.widget-view+json": {
       "model_id": "0bd7e4c2a46e41b38e56eb9b8bb4079b",
       "version_major": 2,
       "version_minor": 0
      },
      "text/plain": [
       "0it [00:00, ?it/s]"
      ]
     },
     "metadata": {},
     "output_type": "display_data"
    },
    {
     "data": {
      "application/vnd.jupyter.widget-view+json": {
       "model_id": "a49bd77940414323adc56da220a8c6e5",
       "version_major": 2,
       "version_minor": 0
      },
      "text/plain": [
       "0it [00:00, ?it/s]"
      ]
     },
     "metadata": {},
     "output_type": "display_data"
    },
    {
     "data": {
      "application/vnd.jupyter.widget-view+json": {
       "model_id": "f321e583211d4d269a5d1b67d5de094a",
       "version_major": 2,
       "version_minor": 0
      },
      "text/plain": [
       "0it [00:00, ?it/s]"
      ]
     },
     "metadata": {},
     "output_type": "display_data"
    }
   ],
   "source": [
    "#фильтруем данные по заданным id_client\n",
    "df = pd.DataFrame()\n",
    "for mon in tqdm(id_client.report_next_end.unique()):\n",
    "    month_to_filter = mon\n",
    "    date = processed_train[processed_train['client_id'].isin(id_client[id_client['report_next_end'] == mon].client_id)]\n",
    "    date['report_next_end'] = mon \n",
    "    date = filter_dataframe_by_month(date, timestamp_column, data_columns, month_to_filter)\n",
    "    date = date.applymap(lambda x: np.nan if isinstance(x, list) and len(x) == 0 else x)\n",
    "    date.dropna(inplace=True)\n",
    "    df = pd.concat([df,date])\n",
    "    "
   ]
  },
  {
   "cell_type": "code",
   "execution_count": 19,
   "id": "fbfe9ece-ab0d-4506-a60a-dc16909e61e9",
   "metadata": {},
   "outputs": [
    {
     "data": {
      "text/plain": [
       "(396434, 6)"
      ]
     },
     "execution_count": 19,
     "metadata": {},
     "output_type": "execute_result"
    }
   ],
   "source": [
    "# Функция для проверки наличия tensor([])\n",
    "def contains_empty_tensor(x):\n",
    "    return isinstance(x, torch.Tensor) and x.numel() == 0\n",
    "# Преобразуем tensor([]) в NaN\n",
    "df = df.applymap(lambda x: None if contains_empty_tensor(x) else x)\n",
    "\n",
    "# Удаляем строки, содержащие NaN\n",
    "df = df.dropna()\n",
    "df.shape    "
   ]
  },
  {
   "cell_type": "code",
   "execution_count": 20,
   "id": "efd32f12-ed40-4e9c-8723-0d58a04e5c8b",
   "metadata": {},
   "outputs": [],
   "source": [
    "test = MemoryMapDataset(\n",
    "    data=df.to_dict(\"records\"),\n",
    "    i_filters=[\n",
    "        FeatureFilter(drop_feature_names=['client_id',]),\n",
    "        ToTorch(),\n",
    "    ]\n",
    ")"
   ]
  },
  {
   "cell_type": "code",
   "execution_count": 21,
   "id": "0ab11944-204e-4df9-81c5-226b32495322",
   "metadata": {},
   "outputs": [
    {
     "name": "stderr",
     "output_type": "stream",
     "text": [
      "GPU available: True (cuda), used: True\n",
      "TPU available: False, using: 0 TPU cores\n",
      "IPU available: False, using: 0 IPUs\n",
      "HPU available: False, using: 0 HPUs\n"
     ]
    }
   ],
   "source": [
    "trainer = pl.Trainer( max_epochs=-1)"
   ]
  },
  {
   "cell_type": "code",
   "execution_count": 22,
   "id": "d2034a32-fffe-4a52-b992-6df6cdb1b1d8",
   "metadata": {},
   "outputs": [
    {
     "name": "stderr",
     "output_type": "stream",
     "text": [
      "LOCAL_RANK: 0 - CUDA_VISIBLE_DEVICES: [0]\n"
     ]
    },
    {
     "data": {
      "application/vnd.jupyter.widget-view+json": {
       "model_id": "1c839d4bc018448d9f38619a19e7a36b",
       "version_major": 2,
       "version_minor": 0
      },
      "text/plain": [
       "Predicting: |                                             | 0/? [00:00<?, ?it/s]"
      ]
     },
     "metadata": {},
     "output_type": "display_data"
    },
    {
     "data": {
      "text/plain": [
       "torch.Size([396434, 32])"
      ]
     },
     "execution_count": 22,
     "metadata": {},
     "output_type": "execute_result"
    }
   ],
   "source": [
    "model.to('cpu')\n",
    "train_dl = inference_data_loader(test, num_workers=0, batch_size=64)\n",
    "train_embeds = torch.vstack(trainer.predict(model, train_dl))\n",
    "train_embeds.shape"
   ]
  },
  {
   "cell_type": "code",
   "execution_count": 23,
   "id": "97cdbb3e-0472-4583-ab76-160d95350e4d",
   "metadata": {},
   "outputs": [],
   "source": [
    "train_df = pd.DataFrame()\n",
    "train_df['client_id'] = df['client_id']\n",
    "train_df['report_next_end'] = df['report_next_end']"
   ]
  },
  {
   "cell_type": "code",
   "execution_count": 24,
   "id": "6ffd0104-8b35-4c3f-bf41-3573ca1ed845",
   "metadata": {},
   "outputs": [
    {
     "data": {
      "text/html": [
       "<div>\n",
       "<style scoped>\n",
       "    .dataframe tbody tr th:only-of-type {\n",
       "        vertical-align: middle;\n",
       "    }\n",
       "\n",
       "    .dataframe tbody tr th {\n",
       "        vertical-align: top;\n",
       "    }\n",
       "\n",
       "    .dataframe thead th {\n",
       "        text-align: right;\n",
       "    }\n",
       "</style>\n",
       "<table border=\"1\" class=\"dataframe\">\n",
       "  <thead>\n",
       "    <tr style=\"text-align: right;\">\n",
       "      <th></th>\n",
       "      <th>client_id</th>\n",
       "      <th>report_next_end</th>\n",
       "      <th>emb_trx</th>\n",
       "    </tr>\n",
       "  </thead>\n",
       "  <tbody>\n",
       "    <tr>\n",
       "      <th>3</th>\n",
       "      <td>004c7779a0ecbcd972a24627f32dcbbd4d63c610a9ee0a...</td>\n",
       "      <td>2022-11-30</td>\n",
       "      <td>[0.7512722, 0.034746684, 0.1970293, -0.4776746...</td>\n",
       "    </tr>\n",
       "    <tr>\n",
       "      <th>20</th>\n",
       "      <td>01703640603e9dfa59cd76cc233d086ecc34d3ece32c56...</td>\n",
       "      <td>2022-11-30</td>\n",
       "      <td>[0.24660093, 0.14926656, -0.16413787, -0.21441...</td>\n",
       "    </tr>\n",
       "    <tr>\n",
       "      <th>23</th>\n",
       "      <td>0191f3d77d4c8f28ad676fe2e1fda9e3c7a9dc0351f0d0...</td>\n",
       "      <td>2022-11-30</td>\n",
       "      <td>[0.48362908, 0.40308118, -0.42224756, -0.41774...</td>\n",
       "    </tr>\n",
       "    <tr>\n",
       "      <th>29</th>\n",
       "      <td>01df36c22b9fd7e8ad8d7b1c396b2b1367a2606e5b6255...</td>\n",
       "      <td>2022-11-30</td>\n",
       "      <td>[0.9418559, -0.2446612, 0.3373396, -0.65160483...</td>\n",
       "    </tr>\n",
       "    <tr>\n",
       "      <th>40</th>\n",
       "      <td>0292402a3043ce0dc6335c9461a7aa68fbc88d8a49e63d...</td>\n",
       "      <td>2022-11-30</td>\n",
       "      <td>[0.35298893, 0.23598681, -0.33515975, -0.28535...</td>\n",
       "    </tr>\n",
       "    <tr>\n",
       "      <th>...</th>\n",
       "      <td>...</td>\n",
       "      <td>...</td>\n",
       "      <td>...</td>\n",
       "    </tr>\n",
       "    <tr>\n",
       "      <th>788887</th>\n",
       "      <td>f556afdbb6a63a7bedab03ec5abbd3e04980ec76c60e8e...</td>\n",
       "      <td>2022-12-30</td>\n",
       "      <td>[0.32593557, 0.1657233, -0.2606573, -0.2983085...</td>\n",
       "    </tr>\n",
       "    <tr>\n",
       "      <th>788918</th>\n",
       "      <td>f7811e306436328798b252bb698a0affc552304c3272fe...</td>\n",
       "      <td>2022-12-30</td>\n",
       "      <td>[0.7641082, 0.6429504, -0.75637424, -0.7103421...</td>\n",
       "    </tr>\n",
       "    <tr>\n",
       "      <th>788942</th>\n",
       "      <td>f8ebd0078c17acad1d9bfc9bc87c890f742529e447c90d...</td>\n",
       "      <td>2022-12-30</td>\n",
       "      <td>[0.8075682, 0.2910181, 0.4616567, -0.66443074,...</td>\n",
       "    </tr>\n",
       "    <tr>\n",
       "      <th>789023</th>\n",
       "      <td>fe3f567e6cb1803ca215ebe293b650ab6ccf25561cbafa...</td>\n",
       "      <td>2022-12-30</td>\n",
       "      <td>[0.8575122, 0.3442208, -0.8776071, -0.5205566,...</td>\n",
       "    </tr>\n",
       "    <tr>\n",
       "      <th>789049</th>\n",
       "      <td>ffe9b3722b3a971db97c91a7b986cf9642136298dec1f8...</td>\n",
       "      <td>2022-12-30</td>\n",
       "      <td>[0.8420006, 0.75933236, -0.12226219, -0.452593...</td>\n",
       "    </tr>\n",
       "  </tbody>\n",
       "</table>\n",
       "<p>396434 rows × 3 columns</p>\n",
       "</div>"
      ],
      "text/plain": [
       "                                                client_id report_next_end  \\\n",
       "3       004c7779a0ecbcd972a24627f32dcbbd4d63c610a9ee0a...      2022-11-30   \n",
       "20      01703640603e9dfa59cd76cc233d086ecc34d3ece32c56...      2022-11-30   \n",
       "23      0191f3d77d4c8f28ad676fe2e1fda9e3c7a9dc0351f0d0...      2022-11-30   \n",
       "29      01df36c22b9fd7e8ad8d7b1c396b2b1367a2606e5b6255...      2022-11-30   \n",
       "40      0292402a3043ce0dc6335c9461a7aa68fbc88d8a49e63d...      2022-11-30   \n",
       "...                                                   ...             ...   \n",
       "788887  f556afdbb6a63a7bedab03ec5abbd3e04980ec76c60e8e...      2022-12-30   \n",
       "788918  f7811e306436328798b252bb698a0affc552304c3272fe...      2022-12-30   \n",
       "788942  f8ebd0078c17acad1d9bfc9bc87c890f742529e447c90d...      2022-12-30   \n",
       "789023  fe3f567e6cb1803ca215ebe293b650ab6ccf25561cbafa...      2022-12-30   \n",
       "789049  ffe9b3722b3a971db97c91a7b986cf9642136298dec1f8...      2022-12-30   \n",
       "\n",
       "                                                  emb_trx  \n",
       "3       [0.7512722, 0.034746684, 0.1970293, -0.4776746...  \n",
       "20      [0.24660093, 0.14926656, -0.16413787, -0.21441...  \n",
       "23      [0.48362908, 0.40308118, -0.42224756, -0.41774...  \n",
       "29      [0.9418559, -0.2446612, 0.3373396, -0.65160483...  \n",
       "40      [0.35298893, 0.23598681, -0.33515975, -0.28535...  \n",
       "...                                                   ...  \n",
       "788887  [0.32593557, 0.1657233, -0.2606573, -0.2983085...  \n",
       "788918  [0.7641082, 0.6429504, -0.75637424, -0.7103421...  \n",
       "788942  [0.8075682, 0.2910181, 0.4616567, -0.66443074,...  \n",
       "789023  [0.8575122, 0.3442208, -0.8776071, -0.5205566,...  \n",
       "789049  [0.8420006, 0.75933236, -0.12226219, -0.452593...  \n",
       "\n",
       "[396434 rows x 3 columns]"
      ]
     },
     "execution_count": 24,
     "metadata": {},
     "output_type": "execute_result"
    }
   ],
   "source": [
    "train_df['emb_trx'] = [i for i in train_embeds.numpy()]\n",
    "train_df"
   ]
  },
  {
   "cell_type": "code",
   "execution_count": 26,
   "id": "3eb90cc9-27e4-42b0-a3c9-2275d69e90c6",
   "metadata": {},
   "outputs": [],
   "source": [
    "train_df.to_parquet(f'./Data/geo_emb_select_1_v2.parquet', engine='pyarrow')"
   ]
  },
  {
   "cell_type": "code",
   "execution_count": null,
   "id": "fc6c07f8-e09f-43ba-9a6c-51fec963b262",
   "metadata": {},
   "outputs": [],
   "source": []
  }
 ],
 "metadata": {
  "kernelspec": {
   "display_name": "Python 3 (ipykernel)",
   "language": "python",
   "name": "python3"
  },
  "language_info": {
   "codemirror_mode": {
    "name": "ipython",
    "version": 3
   },
   "file_extension": ".py",
   "mimetype": "text/x-python",
   "name": "python",
   "nbconvert_exporter": "python",
   "pygments_lexer": "ipython3",
   "version": "3.10.12"
  },
  "widgets": {
   "application/vnd.jupyter.widget-state+json": {
    "state": {},
    "version_major": 2,
    "version_minor": 0
   }
  }
 },
 "nbformat": 4,
 "nbformat_minor": 5
}
